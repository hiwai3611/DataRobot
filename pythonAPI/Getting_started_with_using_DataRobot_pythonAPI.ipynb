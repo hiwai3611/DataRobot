{
 "cells": [
  {
   "cell_type": "markdown",
   "metadata": {},
   "source": [
    "# $\\;\\;\\;\\;\\;\\;\\;\\;\\;\\;\\;\\;\\;\\;\\;\\;\\;\\;\\;\\;\\;\\;\\;\\;\\;$ Tryst with Data Robot with Quality Wine\n",
    "### $\\;\\;\\;\\;\\;\\;\\;\\;\\;$ Getting started with using DataRobot python API for multi-class classification\n",
    "###### $\\;\\;\\;\\;\\;\\;\\;\\;\\;\\;\\;\\;\\;\\;\\;\\;\\;\\;\\;\\;\\;\\;\\;\\;\\;\\;\\;\\;\\;\\;\\;\\;\\;\\;\\;\\;\\;\\;\\;\\;\\;\\;\\;\\;\\;\\;\\;\\;\\;\\;\\;\\;\\;\\;\\;$ Shaheen Gauher, PhD "
   ]
  },
  {
   "cell_type": "markdown",
   "metadata": {},
   "source": [
    "<img src=\"https://raw.githubusercontent.com/shaheeng/DataRobot/master/pythonAPI/image_drblog.PNG\">"
   ]
  },
  {
   "cell_type": "markdown",
   "metadata": {},
   "source": [
    "Recently, I had the opportunity to explore [DataRobot](https://www.datarobot.com/). As a hardcore pythonic data scientist, I was curious about its capabilities and wondered if it would help expedite my work. DataRobot promises [automated machine learning](https://www.datarobot.com/product/automated-machine-learning/) wherein it chooses the most appropriate machine learning algorithms, automatically optimizes data preprocessing, applies feature engineering, and tunes parameters for each algorithm. It creates and ranks highly accurate [models](https://www.datarobot.com/wiki/model/) and recommends the best model to deploy for the data and prediction target. So when the opportunity to use DataRobot presented itself, I decided to give it a try. \n",
    "\n",
    "So far, I have been quite pleased with the functionality and was able to integrate it into my pythonic workflow. I have consolidated my DataRobot exploration into this tutorial on ***Getting started with using DataRobot python API for multi-class classification***. Hopefully, this will help you understand how DataRobot works and expedite the onboarding process for your data science needs within your enterprise.\n",
    "\n",
    "For this tutorial, I used the [wine quality data set](https://archive.ics.uci.edu/ml/datasets/wine+quality) from the UCI Machine Learning Repository. The dataset contains quality ratings (labels) for 4,898 white wine samples. The features are the wines’ physical and chemical properties (11 predictors). We want to use these physicochemical properties to predict the quality of the wine. Here is a brief outline of of the steps : I will start by [creating the training data](#ctd) that will be sent to Data Robot modelling engine. Next I will [establish connection to Data Robot](#ec) through my python session and create three different projects to showcase the three different modes Data Robot can work with on my data. The thee modes are the [full autopilot mode](#full), the [quick autopilot mode](#quick) and the [manual mode](#manual). I will call the three projects corresponding to the three modes project_wine1, project_wine2, and project_wine3. Once the training process is complete, I will show how to retrieve the results from the various models and how to generate predictions on new data using a selected model. "
   ]
  },
  {
   "cell_type": "code",
   "execution_count": 1,
   "metadata": {},
   "outputs": [
    {
     "name": "stdout",
     "output_type": "stream",
     "text": [
      "3.6.5 |Anaconda, Inc.| (default, Mar 29 2018, 13:32:41) [MSC v.1900 64 bit (AMD64)]\n",
      "0.23.0\n",
      "1.16.1\n"
     ]
    }
   ],
   "source": [
    "import sys\n",
    "import pandas as pd\n",
    "import numpy as np\n",
    "from numpy import array\n",
    "\n",
    "print(sys.version)\n",
    "print(pd.__version__)\n",
    "print(np.__version__)"
   ]
  },
  {
   "cell_type": "markdown",
   "metadata": {},
   "source": [
    "<a name=\"ctd\"></a>\n",
    "# Create Training Data"
   ]
  },
  {
   "cell_type": "markdown",
   "metadata": {},
   "source": [
    "Data Robot expects training data in the form of a flat file. There is minimal preparation required for the wine data set used here. I will rename the headers by removing the spaces in the column names and create target variable from the variable quality. The quality ratings which are our labels has several distinct values with some of the values having very few instances. I will relabel the data as Low, Med and High reducing it to a multi-class classification problem with three classes and finally drop the original column 'quality'.\n"
   ]
  },
  {
   "cell_type": "code",
   "execution_count": 2,
   "metadata": {},
   "outputs": [
    {
     "data": {
      "text/html": [
       "<div>\n",
       "<style scoped>\n",
       "    .dataframe tbody tr th:only-of-type {\n",
       "        vertical-align: middle;\n",
       "    }\n",
       "\n",
       "    .dataframe tbody tr th {\n",
       "        vertical-align: top;\n",
       "    }\n",
       "\n",
       "    .dataframe thead th {\n",
       "        text-align: right;\n",
       "    }\n",
       "</style>\n",
       "<table border=\"1\" class=\"dataframe\">\n",
       "  <thead>\n",
       "    <tr style=\"text-align: right;\">\n",
       "      <th></th>\n",
       "      <th>fixed_acidity</th>\n",
       "      <th>volatile_acidity</th>\n",
       "      <th>citric_acid</th>\n",
       "      <th>residual_sugar</th>\n",
       "      <th>chlorides</th>\n",
       "      <th>free_sulfur_dioxide</th>\n",
       "      <th>total_sulfur_dioxide</th>\n",
       "      <th>density</th>\n",
       "      <th>pH</th>\n",
       "      <th>sulphates</th>\n",
       "      <th>alcohol</th>\n",
       "      <th>target</th>\n",
       "    </tr>\n",
       "  </thead>\n",
       "  <tbody>\n",
       "    <tr>\n",
       "      <th>4751</th>\n",
       "      <td>7.3</td>\n",
       "      <td>0.36</td>\n",
       "      <td>0.62</td>\n",
       "      <td>7.1</td>\n",
       "      <td>0.033</td>\n",
       "      <td>48.0</td>\n",
       "      <td>185.0</td>\n",
       "      <td>0.99472</td>\n",
       "      <td>3.14</td>\n",
       "      <td>0.62</td>\n",
       "      <td>10.6</td>\n",
       "      <td>Med</td>\n",
       "    </tr>\n",
       "    <tr>\n",
       "      <th>3047</th>\n",
       "      <td>7.7</td>\n",
       "      <td>0.18</td>\n",
       "      <td>0.53</td>\n",
       "      <td>1.2</td>\n",
       "      <td>0.041</td>\n",
       "      <td>42.0</td>\n",
       "      <td>167.0</td>\n",
       "      <td>0.99080</td>\n",
       "      <td>3.11</td>\n",
       "      <td>0.44</td>\n",
       "      <td>11.9</td>\n",
       "      <td>Low</td>\n",
       "    </tr>\n",
       "    <tr>\n",
       "      <th>1243</th>\n",
       "      <td>7.1</td>\n",
       "      <td>0.44</td>\n",
       "      <td>0.37</td>\n",
       "      <td>2.7</td>\n",
       "      <td>0.041</td>\n",
       "      <td>35.0</td>\n",
       "      <td>128.0</td>\n",
       "      <td>0.98960</td>\n",
       "      <td>3.07</td>\n",
       "      <td>0.43</td>\n",
       "      <td>13.5</td>\n",
       "      <td>High</td>\n",
       "    </tr>\n",
       "    <tr>\n",
       "      <th>1590</th>\n",
       "      <td>7.9</td>\n",
       "      <td>0.14</td>\n",
       "      <td>0.74</td>\n",
       "      <td>1.2</td>\n",
       "      <td>0.028</td>\n",
       "      <td>30.0</td>\n",
       "      <td>165.0</td>\n",
       "      <td>0.99100</td>\n",
       "      <td>3.08</td>\n",
       "      <td>0.82</td>\n",
       "      <td>12.3</td>\n",
       "      <td>Med</td>\n",
       "    </tr>\n",
       "    <tr>\n",
       "      <th>391</th>\n",
       "      <td>6.5</td>\n",
       "      <td>0.36</td>\n",
       "      <td>0.32</td>\n",
       "      <td>1.1</td>\n",
       "      <td>0.031</td>\n",
       "      <td>13.0</td>\n",
       "      <td>66.0</td>\n",
       "      <td>0.99160</td>\n",
       "      <td>3.10</td>\n",
       "      <td>0.46</td>\n",
       "      <td>10.6</td>\n",
       "      <td>Low</td>\n",
       "    </tr>\n",
       "  </tbody>\n",
       "</table>\n",
       "</div>"
      ],
      "text/plain": [
       "      fixed_acidity  volatile_acidity  citric_acid  residual_sugar  chlorides  \\\n",
       "4751            7.3              0.36         0.62             7.1      0.033   \n",
       "3047            7.7              0.18         0.53             1.2      0.041   \n",
       "1243            7.1              0.44         0.37             2.7      0.041   \n",
       "1590            7.9              0.14         0.74             1.2      0.028   \n",
       "391             6.5              0.36         0.32             1.1      0.031   \n",
       "\n",
       "      free_sulfur_dioxide  total_sulfur_dioxide  density    pH  sulphates  \\\n",
       "4751                 48.0                 185.0  0.99472  3.14       0.62   \n",
       "3047                 42.0                 167.0  0.99080  3.11       0.44   \n",
       "1243                 35.0                 128.0  0.98960  3.07       0.43   \n",
       "1590                 30.0                 165.0  0.99100  3.08       0.82   \n",
       "391                  13.0                  66.0  0.99160  3.10       0.46   \n",
       "\n",
       "      alcohol target  \n",
       "4751     10.6    Med  \n",
       "3047     11.9    Low  \n",
       "1243     13.5   High  \n",
       "1590     12.3    Med  \n",
       "391      10.6    Low  "
      ]
     },
     "execution_count": 2,
     "metadata": {},
     "output_type": "execute_result"
    }
   ],
   "source": [
    "# load data\n",
    "url_data = 'https://archive.ics.uci.edu/ml/machine-learning-databases/wine-quality/winequality-white.csv'\n",
    "data = pd.read_csv(url_data, sep=\";\")\n",
    "# rename headers\n",
    "data.columns = [str(x).replace(\" \",\"_\") for x in data.columns.values]\n",
    "# create target column by binning the quality measures as\n",
    "# Low =[3,4,5], Med = [6], High = [7,8,9]\n",
    "bins = [0, 5, 6, 10] \n",
    "labels = ['Low','Med','High']\n",
    "# create target column\n",
    "data['target'] = pd.cut(data['quality'],bins=bins,labels=labels) \n",
    "# drop column 'quality'\n",
    "data = data.drop('quality',axis=1)\n",
    "# split data into train and test and then send train to data robot\n",
    "from sklearn.model_selection import train_test_split\n",
    "y = data.target # define the target variable (dependent variable) as y\n",
    "X_train, X_test, y_train, y_test = train_test_split(data, y, stratify=y, test_size=0.2, random_state=13)\n",
    "data_train = X_train\n",
    "data_test = X_test\n",
    "data_train.head()"
   ]
  },
  {
   "cell_type": "markdown",
   "metadata": {},
   "source": [
    "Data in data_train is the input to Data Robot modelling engine. We will use data_test to test the performance of the model from Data Robot"
   ]
  },
  {
   "cell_type": "markdown",
   "metadata": {},
   "source": [
    "<a name=\"ec\"></a>\n",
    "# Establish connection"
   ]
  },
  {
   "cell_type": "markdown",
   "metadata": {},
   "source": [
    "To access the DataRobot modeling engine, it is necessary to establish an authenticated connection. Establishing [connection](https://datarobot-public-api-client.readthedocs-hosted.com/en/v2.15.0/setup/getting_started.html) requires the following two things:\n",
    "\n",
    "- A DataRobot endpoint - the URL address of the specific DataRobot server being used. It is the url you would use to log into the DataRobot Web User Interface\n",
    "- A DataRobot API token - a token the server uses to identify and validate the user making API requests. You can find your API token by logging into the DataRobot Web User Interface and looking in your Profile.\n",
    "\n",
    "Installing DataRobot package\n",
    "\n",
    "- If you have DataRobot installed in your enterprise, please make sure you install the same package version. Your support representative can help you determine what the recommended version you should use.   \n",
    "- We can install it simply using pip for e.g. `pip install \"datarobot>=2.13,<2.14\"`"
   ]
  },
  {
   "cell_type": "code",
   "execution_count": 13,
   "metadata": {},
   "outputs": [
    {
     "name": "stdout",
     "output_type": "stream",
     "text": [
      "2.13.3\n"
     ]
    }
   ],
   "source": [
    "try:\n",
    "    import datarobot as dr\n",
    "except ImportError:\n",
    "    print('Make sure to install the datarobot package from PyPi before trying this tutorial')\n",
    "    raise\n",
    "print(dr.__version__)\n",
    "\n",
    "endpoint = 'https://your.dataroboturl.com/api/v2'\n",
    "\n",
    "token = 'ENTER-yourtokenhere5ydvNeJvd3wA'\n",
    "\n",
    "dr.Client(endpoint=endpoint, token=token)\n"
   ]
  },
  {
   "cell_type": "markdown",
   "metadata": {},
   "source": [
    "<a name=\"full\"></a>\n",
    "# AUTOPILOT_MODE.FULL_AUTO\n",
    "\n",
    "For the first project I will run the full autopilot mode. Given a dataset, Data Robot starts with recommending a set of blueprints that are appropriate for the task at hand. A blueprint is nothing but a series of steps or computation paths that a dataset will pass through before producing predictions from data. There can be multiple blueprints for the same algorithm depending on the underlying preprocessing steps. Each blueprint can result in one or more model. A model is the result of training a blueprint on a dataset at a specified sample percentage, a set of features and hyperparameters. In the autopilot mode (which is also the default mode), the modeling process proceeds completely automatically, including running recommended models, running at different sample sizes, and blending. "
   ]
  },
  {
   "cell_type": "code",
   "execution_count": 19,
   "metadata": {},
   "outputs": [
    {
     "name": "stdout",
     "output_type": "stream",
     "text": [
      "Time taken to start project1_wine =  28.379300117492676 seconds\n"
     ]
    }
   ],
   "source": [
    "import time\n",
    "start = time.time()\n",
    "# Quickly Starting a project\n",
    "# Project.start method combines the project creation, file upload and target selection \n",
    "project1_wine = dr.Project.start(data_train, project_name='shaheen_dr1',target=\"target\", target_type=dr.enums.TARGET_TYPE.MULTICLASS)\n",
    "end1 = time.time()\n",
    "print('Time taken to start project1_wine = ', end1 - start,'seconds')"
   ]
  },
  {
   "cell_type": "code",
   "execution_count": 20,
   "metadata": {},
   "outputs": [
    {
     "name": "stdout",
     "output_type": "stream",
     "text": [
      "In progress: 1, queued: 0 (waited: 0s)\n",
      "In progress: 1, queued: 0 (waited: 1s)\n",
      "In progress: 1, queued: 0 (waited: 1s)\n",
      "In progress: 1, queued: 0 (waited: 2s)\n",
      "In progress: 1, queued: 0 (waited: 3s)\n",
      "In progress: 1, queued: 0 (waited: 5s)\n",
      "In progress: 1, queued: 0 (waited: 8s)\n",
      "In progress: 1, queued: 0 (waited: 15s)\n",
      "In progress: 1, queued: 0 (waited: 28s)\n",
      "In progress: 4, queued: 2 (waited: 54s)\n",
      "In progress: 1, queued: 0 (waited: 106s)\n",
      "In progress: 4, queued: 13 (waited: 196s)\n",
      "In progress: 4, queued: 3 (waited: 287s)\n",
      "In progress: 4, queued: 1 (waited: 377s)\n",
      "In progress: 1, queued: 0 (waited: 468s)\n",
      "In progress: 1, queued: 0 (waited: 558s)\n",
      "In progress: 1, queued: 0 (waited: 649s)\n",
      "In progress: 1, queued: 0 (waited: 739s)\n",
      "In progress: 1, queued: 0 (waited: 829s)\n",
      "In progress: 1, queued: 0 (waited: 920s)\n",
      "In progress: 1, queued: 0 (waited: 1010s)\n",
      "In progress: 1, queued: 0 (waited: 1101s)\n",
      "In progress: 0, queued: 0 (waited: 1192s)\n",
      "Auto Pilot took 1263.7193999290466 seconds to complete\n"
     ]
    }
   ],
   "source": [
    "project1_wine.wait_for_autopilot(check_interval=90)\n",
    "end = time.time()\n",
    "print('Auto Pilot took',end - start,'seconds to complete')"
   ]
  },
  {
   "cell_type": "code",
   "execution_count": 23,
   "metadata": {},
   "outputs": [
    {
     "name": "stdout",
     "output_type": "stream",
     "text": [
      "Project(shaheen_dr1)\n",
      "5ca3c341329c91358a505a1c\n",
      "shaheen_dr1\n"
     ]
    }
   ],
   "source": [
    "# some attributes of the project\n",
    "print(project1_wine)\n",
    "print(project1_wine.id)\n",
    "print(project1_wine.project_name)"
   ]
  },
  {
   "cell_type": "code",
   "execution_count": 17,
   "metadata": {},
   "outputs": [
    {
     "data": {
      "text/plain": [
       "True"
      ]
     },
     "execution_count": 17,
     "metadata": {},
     "output_type": "execute_result"
    }
   ],
   "source": [
    "# You can view the project in your browser: \n",
    "project1_wine.open_leaderboard_browser()"
   ]
  },
  {
   "cell_type": "markdown",
   "metadata": {},
   "source": [
    "Get the set of recommended [blueprints](https://datarobot-public-api-client.readthedocs-hosted.com/en/v2.14.2/entities/blueprint.html) for this project"
   ]
  },
  {
   "cell_type": "code",
   "execution_count": 24,
   "metadata": {},
   "outputs": [
    {
     "name": "stdout",
     "output_type": "stream",
     "text": [
      "22\n"
     ]
    },
    {
     "data": {
      "text/plain": [
       "[Blueprint(Vowpal Wabbit Classifier),\n",
       " Blueprint(Vowpal Wabbit Stagewise Polynomial Classifier),\n",
       " Blueprint(eXtreme Gradient Boosted Trees Classifier),\n",
       " Blueprint(Gradient Boosted Trees Classifier),\n",
       " Blueprint(RandomForest Classifier (Gini)),\n",
       " Blueprint(Stochastic Gradient Descent Classifier),\n",
       " Blueprint(Stochastic Gradient Descent Classifier),\n",
       " Blueprint(Stochastic Gradient Descent Classifier),\n",
       " Blueprint(TensorFlow Logistic Regression),\n",
       " Blueprint(TensorFlow Neural Network Classifier),\n",
       " Blueprint(Light Gradient Boosted Trees Classifier with Early Stopping (SoftMax Loss) (16 leaves)),\n",
       " Blueprint(ExtraTrees Classifier (Gini)),\n",
       " Blueprint(TensorFlow Deep Learning Classifier),\n",
       " Blueprint(Decision Tree Classifier (Gini)),\n",
       " Blueprint(Stochastic Gradient Descent Classifier),\n",
       " Blueprint(Majority Class Classifier),\n",
       " Blueprint(Regularized Logistic Regression (L2)),\n",
       " Blueprint(TensorFlow Deep Learning Classifier),\n",
       " Blueprint(Gradient Boosted Greedy Trees Classifier),\n",
       " Blueprint(Vowpal Wabbit Low Rank Quadratic Classifier),\n",
       " Blueprint(TensorFlow Deep Learning Classifier),\n",
       " Blueprint(Light Gradient Boosted Trees Classifier with Early Stopping (SoftMax Loss) (64 leaves))]"
      ]
     },
     "execution_count": 24,
     "metadata": {},
     "output_type": "execute_result"
    }
   ],
   "source": [
    "# recommended blueprints for this project\n",
    "allblueprints = project1_wine.get_blueprints()\n",
    "print(len(allblueprints))\n",
    "allblueprints"
   ]
  },
  {
   "cell_type": "markdown",
   "metadata": {},
   "source": [
    "Now that auto pilot is complete, lets see how many models were created using these blueprints."
   ]
  },
  {
   "cell_type": "code",
   "execution_count": 25,
   "metadata": {},
   "outputs": [
    {
     "name": "stdout",
     "output_type": "stream",
     "text": [
      "28\n"
     ]
    },
    {
     "data": {
      "text/plain": [
       "[Model('RandomForest Classifier (Gini)'),\n",
       " Model('AVG Blender'),\n",
       " Model('ENET Blender'),\n",
       " Model('ENET Blender'),\n",
       " Model('RandomForest Classifier (Gini)'),\n",
       " Model('Light Gradient Boosted Trees Classifier with Early Stopping (SoftMax Loss) (64 leaves)'),\n",
       " Model('RandomForest Classifier (Gini)'),\n",
       " Model('Advanced AVG Blender'),\n",
       " Model('Light Gradient Boosted Trees Classifier with Early Stopping (SoftMax Loss) (16 leaves)'),\n",
       " Model('eXtreme Gradient Boosted Trees Classifier'),\n",
       " Model('Gradient Boosted Trees Classifier'),\n",
       " Model('Light Gradient Boosted Trees Classifier with Early Stopping (SoftMax Loss) (16 leaves)'),\n",
       " Model('eXtreme Gradient Boosted Trees Classifier'),\n",
       " Model('Light Gradient Boosted Trees Classifier with Early Stopping (SoftMax Loss) (64 leaves)'),\n",
       " Model('LGBM Blender'),\n",
       " Model('RandomForest Classifier (Gini)'),\n",
       " Model('ExtraTrees Classifier (Gini)'),\n",
       " Model('Gradient Boosted Trees Classifier'),\n",
       " Model('ExtraTrees Classifier (Gini)'),\n",
       " Model('Regularized Logistic Regression (L2)'),\n",
       " Model('TensorFlow Neural Network Classifier'),\n",
       " Model('Regularized Logistic Regression (L2)'),\n",
       " Model('TensorFlow Neural Network Classifier'),\n",
       " Model('Stochastic Gradient Descent Classifier'),\n",
       " Model('Stochastic Gradient Descent Classifier'),\n",
       " Model('Decision Tree Classifier (Gini)'),\n",
       " Model('Vowpal Wabbit Classifier'),\n",
       " Model('Majority Class Classifier')]"
      ]
     },
     "execution_count": 25,
     "metadata": {},
     "output_type": "execute_result"
    }
   ],
   "source": [
    "# get_models method returns a list of the project models that have finished training:\n",
    "allmodels = project1_wine.get_models()\n",
    "print(len(allmodels))\n",
    "allmodels"
   ]
  },
  {
   "cell_type": "markdown",
   "metadata": {},
   "source": [
    "DataRobot recommended 22 blueprints for my data and created 28 models based on these blueprints in less that half an hour!!!! Depending on the size and complexity of the data these will vary. For other other larger datasets (~3million rows and ~50 columns) that I tried I saw upto 60 blueprints recommendation and taking a few hours to complete. Furthermore, During the full Autopilot modeling process, DataRobot will recommend up to three well-performing models. It can even make this choice for you if you are unsure about the tradeoffs between the various types of recommendations. Next I will compare these 28 models using the Accuracy metric and select one model and examine its performance in detail. Then, I will upload the test_data from above to get predictions using this model."
   ]
  },
  {
   "cell_type": "code",
   "execution_count": 26,
   "metadata": {},
   "outputs": [
    {
     "name": "stdout",
     "output_type": "stream",
     "text": [
      "(28, 3)\n"
     ]
    },
    {
     "data": {
      "text/html": [
       "<div>\n",
       "<style scoped>\n",
       "    .dataframe tbody tr th:only-of-type {\n",
       "        vertical-align: middle;\n",
       "    }\n",
       "\n",
       "    .dataframe tbody tr th {\n",
       "        vertical-align: top;\n",
       "    }\n",
       "\n",
       "    .dataframe thead th {\n",
       "        text-align: right;\n",
       "    }\n",
       "</style>\n",
       "<table border=\"1\" class=\"dataframe\">\n",
       "  <thead>\n",
       "    <tr style=\"text-align: right;\">\n",
       "      <th></th>\n",
       "      <th>model_name</th>\n",
       "      <th>accuracy_crossValidation</th>\n",
       "      <th>accuracy_validation</th>\n",
       "    </tr>\n",
       "  </thead>\n",
       "  <tbody>\n",
       "    <tr>\n",
       "      <th>2</th>\n",
       "      <td>ENET Blender</td>\n",
       "      <td>0.676558</td>\n",
       "      <td>0.68740</td>\n",
       "    </tr>\n",
       "    <tr>\n",
       "      <th>4</th>\n",
       "      <td>RandomForest Classifier (Gini)</td>\n",
       "      <td>0.679748</td>\n",
       "      <td>0.68262</td>\n",
       "    </tr>\n",
       "    <tr>\n",
       "      <th>3</th>\n",
       "      <td>ENET Blender</td>\n",
       "      <td>0.675916</td>\n",
       "      <td>0.68102</td>\n",
       "    </tr>\n",
       "    <tr>\n",
       "      <th>7</th>\n",
       "      <td>Advanced AVG Blender</td>\n",
       "      <td>0.670178</td>\n",
       "      <td>0.67943</td>\n",
       "    </tr>\n",
       "    <tr>\n",
       "      <th>1</th>\n",
       "      <td>AVG Blender</td>\n",
       "      <td>0.673368</td>\n",
       "      <td>0.67783</td>\n",
       "    </tr>\n",
       "    <tr>\n",
       "      <th>6</th>\n",
       "      <td>RandomForest Classifier (Gini)</td>\n",
       "      <td>0.674322</td>\n",
       "      <td>0.67783</td>\n",
       "    </tr>\n",
       "    <tr>\n",
       "      <th>0</th>\n",
       "      <td>RandomForest Classifier (Gini)</td>\n",
       "      <td>0.666346</td>\n",
       "      <td>0.67145</td>\n",
       "    </tr>\n",
       "    <tr>\n",
       "      <th>5</th>\n",
       "      <td>Light Gradient Boosted Trees Classifier with E...</td>\n",
       "      <td>0.669220</td>\n",
       "      <td>0.65550</td>\n",
       "    </tr>\n",
       "    <tr>\n",
       "      <th>8</th>\n",
       "      <td>Light Gradient Boosted Trees Classifier with E...</td>\n",
       "      <td>0.647208</td>\n",
       "      <td>0.65550</td>\n",
       "    </tr>\n",
       "    <tr>\n",
       "      <th>10</th>\n",
       "      <td>Gradient Boosted Trees Classifier</td>\n",
       "      <td>0.651676</td>\n",
       "      <td>0.64434</td>\n",
       "    </tr>\n",
       "    <tr>\n",
       "      <th>9</th>\n",
       "      <td>eXtreme Gradient Boosted Trees Classifier</td>\n",
       "      <td>0.653270</td>\n",
       "      <td>0.64274</td>\n",
       "    </tr>\n",
       "    <tr>\n",
       "      <th>16</th>\n",
       "      <td>ExtraTrees Classifier (Gini)</td>\n",
       "      <td>0.645294</td>\n",
       "      <td>0.64274</td>\n",
       "    </tr>\n",
       "    <tr>\n",
       "      <th>14</th>\n",
       "      <td>LGBM Blender</td>\n",
       "      <td>0.664752</td>\n",
       "      <td>0.64115</td>\n",
       "    </tr>\n",
       "    <tr>\n",
       "      <th>15</th>\n",
       "      <td>RandomForest Classifier (Gini)</td>\n",
       "      <td>NaN</td>\n",
       "      <td>0.63636</td>\n",
       "    </tr>\n",
       "    <tr>\n",
       "      <th>13</th>\n",
       "      <td>Light Gradient Boosted Trees Classifier with E...</td>\n",
       "      <td>NaN</td>\n",
       "      <td>0.63158</td>\n",
       "    </tr>\n",
       "    <tr>\n",
       "      <th>11</th>\n",
       "      <td>Light Gradient Boosted Trees Classifier with E...</td>\n",
       "      <td>NaN</td>\n",
       "      <td>0.62998</td>\n",
       "    </tr>\n",
       "    <tr>\n",
       "      <th>12</th>\n",
       "      <td>eXtreme Gradient Boosted Trees Classifier</td>\n",
       "      <td>NaN</td>\n",
       "      <td>0.62201</td>\n",
       "    </tr>\n",
       "    <tr>\n",
       "      <th>17</th>\n",
       "      <td>Gradient Boosted Trees Classifier</td>\n",
       "      <td>NaN</td>\n",
       "      <td>0.61404</td>\n",
       "    </tr>\n",
       "    <tr>\n",
       "      <th>22</th>\n",
       "      <td>TensorFlow Neural Network Classifier</td>\n",
       "      <td>0.570336</td>\n",
       "      <td>0.60128</td>\n",
       "    </tr>\n",
       "    <tr>\n",
       "      <th>18</th>\n",
       "      <td>ExtraTrees Classifier (Gini)</td>\n",
       "      <td>NaN</td>\n",
       "      <td>0.59809</td>\n",
       "    </tr>\n",
       "    <tr>\n",
       "      <th>20</th>\n",
       "      <td>TensorFlow Neural Network Classifier</td>\n",
       "      <td>NaN</td>\n",
       "      <td>0.59809</td>\n",
       "    </tr>\n",
       "    <tr>\n",
       "      <th>21</th>\n",
       "      <td>Regularized Logistic Regression (L2)</td>\n",
       "      <td>0.578948</td>\n",
       "      <td>0.59490</td>\n",
       "    </tr>\n",
       "    <tr>\n",
       "      <th>19</th>\n",
       "      <td>Regularized Logistic Regression (L2)</td>\n",
       "      <td>NaN</td>\n",
       "      <td>0.59330</td>\n",
       "    </tr>\n",
       "    <tr>\n",
       "      <th>24</th>\n",
       "      <td>Stochastic Gradient Descent Classifier</td>\n",
       "      <td>NaN</td>\n",
       "      <td>0.59330</td>\n",
       "    </tr>\n",
       "    <tr>\n",
       "      <th>23</th>\n",
       "      <td>Stochastic Gradient Descent Classifier</td>\n",
       "      <td>NaN</td>\n",
       "      <td>0.57416</td>\n",
       "    </tr>\n",
       "    <tr>\n",
       "      <th>26</th>\n",
       "      <td>Vowpal Wabbit Classifier</td>\n",
       "      <td>NaN</td>\n",
       "      <td>0.54545</td>\n",
       "    </tr>\n",
       "    <tr>\n",
       "      <th>25</th>\n",
       "      <td>Decision Tree Classifier (Gini)</td>\n",
       "      <td>NaN</td>\n",
       "      <td>0.54386</td>\n",
       "    </tr>\n",
       "    <tr>\n",
       "      <th>27</th>\n",
       "      <td>Majority Class Classifier</td>\n",
       "      <td>NaN</td>\n",
       "      <td>0.50239</td>\n",
       "    </tr>\n",
       "  </tbody>\n",
       "</table>\n",
       "</div>"
      ],
      "text/plain": [
       "                                           model_name  \\\n",
       "2                                        ENET Blender   \n",
       "4                      RandomForest Classifier (Gini)   \n",
       "3                                        ENET Blender   \n",
       "7                                Advanced AVG Blender   \n",
       "1                                         AVG Blender   \n",
       "6                      RandomForest Classifier (Gini)   \n",
       "0                      RandomForest Classifier (Gini)   \n",
       "5   Light Gradient Boosted Trees Classifier with E...   \n",
       "8   Light Gradient Boosted Trees Classifier with E...   \n",
       "10                  Gradient Boosted Trees Classifier   \n",
       "9           eXtreme Gradient Boosted Trees Classifier   \n",
       "16                       ExtraTrees Classifier (Gini)   \n",
       "14                                       LGBM Blender   \n",
       "15                     RandomForest Classifier (Gini)   \n",
       "13  Light Gradient Boosted Trees Classifier with E...   \n",
       "11  Light Gradient Boosted Trees Classifier with E...   \n",
       "12          eXtreme Gradient Boosted Trees Classifier   \n",
       "17                  Gradient Boosted Trees Classifier   \n",
       "22               TensorFlow Neural Network Classifier   \n",
       "18                       ExtraTrees Classifier (Gini)   \n",
       "20               TensorFlow Neural Network Classifier   \n",
       "21               Regularized Logistic Regression (L2)   \n",
       "19               Regularized Logistic Regression (L2)   \n",
       "24             Stochastic Gradient Descent Classifier   \n",
       "23             Stochastic Gradient Descent Classifier   \n",
       "26                           Vowpal Wabbit Classifier   \n",
       "25                    Decision Tree Classifier (Gini)   \n",
       "27                          Majority Class Classifier   \n",
       "\n",
       "    accuracy_crossValidation  accuracy_validation  \n",
       "2                   0.676558              0.68740  \n",
       "4                   0.679748              0.68262  \n",
       "3                   0.675916              0.68102  \n",
       "7                   0.670178              0.67943  \n",
       "1                   0.673368              0.67783  \n",
       "6                   0.674322              0.67783  \n",
       "0                   0.666346              0.67145  \n",
       "5                   0.669220              0.65550  \n",
       "8                   0.647208              0.65550  \n",
       "10                  0.651676              0.64434  \n",
       "9                   0.653270              0.64274  \n",
       "16                  0.645294              0.64274  \n",
       "14                  0.664752              0.64115  \n",
       "15                       NaN              0.63636  \n",
       "13                       NaN              0.63158  \n",
       "11                       NaN              0.62998  \n",
       "12                       NaN              0.62201  \n",
       "17                       NaN              0.61404  \n",
       "22                  0.570336              0.60128  \n",
       "18                       NaN              0.59809  \n",
       "20                       NaN              0.59809  \n",
       "21                  0.578948              0.59490  \n",
       "19                       NaN              0.59330  \n",
       "24                       NaN              0.59330  \n",
       "23                       NaN              0.57416  \n",
       "26                       NaN              0.54545  \n",
       "25                       NaN              0.54386  \n",
       "27                       NaN              0.50239  "
      ]
     },
     "execution_count": 26,
     "metadata": {},
     "output_type": "execute_result"
    }
   ],
   "source": [
    "# Accuracy of all models returned in full autopilot mode in order\n",
    "chosen_metric = 'Accuracy' # Options are 'Accuracy', 'Balanced Accuracy', 'LogLoss' and 'AUC'\n",
    "df_modelmetrics = pd.DataFrame(columns = ['model_name', 'accuracy_crossValidation', 'accuracy_validation']) ##create empty df\n",
    "for m in range(len(allmodels)):\n",
    "    mth_model = allmodels[m]\n",
    "    list_row = [mth_model.model_type, mth_model.metrics.get(chosen_metric).get('crossValidation'), mth_model.metrics.get('Accuracy').get('validation') ]\n",
    "    df_modelmetrics.loc[m] = list_row\n",
    "    \n",
    "df_modelmetrics = df_modelmetrics.sort_values('accuracy_validation', ascending=False)\n",
    "print(df_modelmetrics.shape)\n",
    "df_modelmetrics"
   ]
  },
  {
   "cell_type": "markdown",
   "metadata": {},
   "source": [
    "Get the [recommended](https://datarobot-public-api-client.readthedocs-hosted.com/en/v2.15.0/entities/model_recommendation.html) models from Data Robot. Note that model recommendations are only generated when you run full Autopilot."
   ]
  },
  {
   "cell_type": "code",
   "execution_count": 27,
   "metadata": {
    "scrolled": true
   },
   "outputs": [
    {
     "data": {
      "text/plain": [
       "[ModelRecommendation(5ca3c341329c91358a505a1c, 5ca3c4fce2a70154fb53a2c4, Most Accurate),\n",
       " ModelRecommendation(5ca3c341329c91358a505a1c, 5ca3c3ab902fe949f35fac3c, Fast & Accurate),\n",
       " ModelRecommendation(5ca3c341329c91358a505a1c, 5ca3c3ab902fe949f35fac3c, Recommended),\n",
       " ModelRecommendation(5ca3c341329c91358a505a1c, 5ca3c4eb8fe98f6d9f791e80, Recommended for Deployment)]"
      ]
     },
     "execution_count": 27,
     "metadata": {},
     "output_type": "execute_result"
    }
   ],
   "source": [
    "# recommended models from full autopilot mode\n",
    "allrecommendations = dr.ModelRecommendation.get_all(project1_wine.id)\n",
    "allrecommendations"
   ]
  },
  {
   "cell_type": "code",
   "execution_count": 28,
   "metadata": {},
   "outputs": [
    {
     "name": "stdout",
     "output_type": "stream",
     "text": [
      "Model('AVG Blender') Most Accurate\n"
     ]
    }
   ],
   "source": [
    "print(allrecommendations[0].get_model(),allrecommendations[0].recommendation_type)"
   ]
  },
  {
   "cell_type": "markdown",
   "metadata": {},
   "source": [
    "Model('AVG Blender') was the most accurate model"
   ]
  },
  {
   "cell_type": "markdown",
   "metadata": {},
   "source": [
    "Get the Recommended model for Deployment to use for predictions for the project."
   ]
  },
  {
   "cell_type": "code",
   "execution_count": 29,
   "metadata": {},
   "outputs": [
    {
     "data": {
      "text/plain": [
       "ModelRecommendation(5ca3c341329c91358a505a1c, 5ca3c4eb8fe98f6d9f791e80, Recommended for Deployment)"
      ]
     },
     "execution_count": 29,
     "metadata": {},
     "output_type": "execute_result"
    }
   ],
   "source": [
    "# recommended model for deployment\n",
    "therecommendation = dr.ModelRecommendation.get(project1_wine.id)\n",
    "therecommendation"
   ]
  },
  {
   "cell_type": "code",
   "execution_count": 30,
   "metadata": {},
   "outputs": [
    {
     "name": "stdout",
     "output_type": "stream",
     "text": [
      "Model('RandomForest Classifier (Gini)') Recommended for Deployment\n"
     ]
    }
   ],
   "source": [
    "print(therecommendation.get_model(), therecommendation.recommendation_type)"
   ]
  },
  {
   "cell_type": "markdown",
   "metadata": {},
   "source": [
    "Model('RandomForest Classifier (Gini)') was recommended for deployment"
   ]
  },
  {
   "cell_type": "markdown",
   "metadata": {},
   "source": [
    "Next we will select the eXtreme Gradiented Boosted model and examine the metrics of the model in detail and use it to predict for the test data"
   ]
  },
  {
   "cell_type": "code",
   "execution_count": 31,
   "metadata": {},
   "outputs": [
    {
     "name": "stdout",
     "output_type": "stream",
     "text": [
      "Model('eXtreme Gradient Boosted Trees Classifier')\n",
      "5ca3c3ab902fe949f35fac3a\n",
      "39e33faad0d6f53021c923f00f033886\n",
      "eXtreme Gradient Boosted Trees Classifier\n"
     ]
    }
   ],
   "source": [
    "# selecting a model, XGBoost for further examination\n",
    "example_model = project1_wine.get_models(search_params={'name': \"eXtreme Gradient Boosted\" })[0]\n",
    "# some attributes of the selected model\n",
    "print(example_model)\n",
    "print(example_model.id)\n",
    "print(example_model.blueprint_id)\n",
    "print(example_model.model_type)"
   ]
  },
  {
   "cell_type": "code",
   "execution_count": 32,
   "metadata": {},
   "outputs": [
    {
     "data": {
      "text/plain": [
       "64.0123"
      ]
     },
     "execution_count": 32,
     "metadata": {},
     "output_type": "execute_result"
    }
   ],
   "source": [
    "example_model.sample_pct"
   ]
  },
  {
   "cell_type": "markdown",
   "metadata": {},
   "source": [
    "The model was trained on 64% of the data. Data robot sets aside 20% of data as holdout (out of sample set) and uses 16% for validation."
   ]
  },
  {
   "cell_type": "markdown",
   "metadata": {},
   "source": [
    "Let us print the blueprint chart for the selected model and look at the pre-processing steps."
   ]
  },
  {
   "cell_type": "code",
   "execution_count": 33,
   "metadata": {},
   "outputs": [
    {
     "name": "stdout",
     "output_type": "stream",
     "text": [
      "ModelBlueprintChart(5 nodes, 4 edges)\n"
     ]
    }
   ],
   "source": [
    "print(example_model.get_model_blueprint_chart())"
   ]
  },
  {
   "cell_type": "code",
   "execution_count": 34,
   "metadata": {},
   "outputs": [
    {
     "name": "stdout",
     "output_type": "stream",
     "text": [
      "digraph \"Blueprint Chart\" {\n",
      "graph [rankdir=LR]\n",
      "0 [label=\"Data\"]\n",
      "-1 [label=\"Numeric Variables\"]\n",
      "1 [label=\"Missing Values Imputed\"]\n",
      "2 [label=\"eXtreme Gradient Boosted Trees Classifier\"]\n",
      "3 [label=\"Prediction\"]\n",
      "0 -> -1\n",
      "-1 -> 1\n",
      "1 -> 2\n",
      "2 -> 3\n",
      "}\n"
     ]
    }
   ],
   "source": [
    "# blueprint chart representation\n",
    "print(example_model.get_model_blueprint_chart().to_graphviz())"
   ]
  },
  {
   "cell_type": "code",
   "execution_count": 356,
   "metadata": {},
   "outputs": [
    {
     "data": {
      "text/plain": [
       "['Missing Values Imputed', 'eXtreme Gradient Boosted Trees Classifier']"
      ]
     },
     "execution_count": 356,
     "metadata": {},
     "output_type": "execute_result"
    }
   ],
   "source": [
    "example_model.processes"
   ]
  },
  {
   "cell_type": "code",
   "execution_count": 99,
   "metadata": {},
   "outputs": [
    {
     "name": "stdout",
     "output_type": "stream",
     "text": [
      "MissingReportPerFeature(feature=alcohol,type=Numeric, miss_count=0, miss_percentage=0.0, tasks=[TaskMissingReportInfo(id=1, name=Missing Values Imputed, descriptions=['Imputed value: 10.4'])]\n",
      "MissingReportPerFeature(feature=chlorides,type=Numeric, miss_count=0, miss_percentage=0.0, tasks=[TaskMissingReportInfo(id=1, name=Missing Values Imputed, descriptions=['Imputed value: 0.043'])]\n",
      "MissingReportPerFeature(feature=density,type=Numeric, miss_count=0, miss_percentage=0.0, tasks=[TaskMissingReportInfo(id=1, name=Missing Values Imputed, descriptions=['Imputed value: 0.9937'])]\n",
      "MissingReportPerFeature(feature=sulphates,type=Numeric, miss_count=0, miss_percentage=0.0, tasks=[TaskMissingReportInfo(id=1, name=Missing Values Imputed, descriptions=['Imputed value: 0.47'])]\n",
      "MissingReportPerFeature(feature=fixed_acidity,type=Numeric, miss_count=0, miss_percentage=0.0, tasks=[TaskMissingReportInfo(id=1, name=Missing Values Imputed, descriptions=['Imputed value: 6.8'])]\n",
      "MissingReportPerFeature(feature=free_sulfur_dioxide,type=Numeric, miss_count=0, miss_percentage=0.0, tasks=[TaskMissingReportInfo(id=1, name=Missing Values Imputed, descriptions=['Imputed value: 34'])]\n",
      "MissingReportPerFeature(feature=residual_sugar,type=Numeric, miss_count=0, miss_percentage=0.0, tasks=[TaskMissingReportInfo(id=1, name=Missing Values Imputed, descriptions=['Imputed value: 5.3'])]\n",
      "MissingReportPerFeature(feature=volatile_acidity,type=Numeric, miss_count=0, miss_percentage=0.0, tasks=[TaskMissingReportInfo(id=1, name=Missing Values Imputed, descriptions=['Imputed value: 0.26'])]\n",
      "MissingReportPerFeature(feature=pH,type=Numeric, miss_count=0, miss_percentage=0.0, tasks=[TaskMissingReportInfo(id=1, name=Missing Values Imputed, descriptions=['Imputed value: 3.18'])]\n",
      "MissingReportPerFeature(feature=total_sulfur_dioxide,type=Numeric, miss_count=0, miss_percentage=0.0, tasks=[TaskMissingReportInfo(id=1, name=Missing Values Imputed, descriptions=['Imputed value: 134'])]\n",
      "MissingReportPerFeature(feature=citric_acid,type=Numeric, miss_count=0, miss_percentage=0.0, tasks=[TaskMissingReportInfo(id=1, name=Missing Values Imputed, descriptions=['Imputed value: 0.32'])]\n"
     ]
    }
   ],
   "source": [
    "# retrieve missing values reports on training data per each numeric and categorical feature. \n",
    "missing_reports_per_feature = example_model.get_missing_report_info()\n",
    "for report_per_feature in missing_reports_per_feature:\n",
    "    print(report_per_feature)"
   ]
  },
  {
   "cell_type": "markdown",
   "metadata": {},
   "source": [
    "There were no missing values in any column of the wine dataset"
   ]
  },
  {
   "cell_type": "markdown",
   "metadata": {},
   "source": [
    "### Performance on Training Data"
   ]
  },
  {
   "cell_type": "markdown",
   "metadata": {},
   "source": [
    "Lets extract the confusion matrix and retrieve accuracy, precision and recall for the selected model. "
   ]
  },
  {
   "cell_type": "code",
   "execution_count": 35,
   "metadata": {},
   "outputs": [
    {
     "data": {
      "text/plain": [
       "{'LogLoss': {'backtesting': None,\n",
       "  'holdout': None,\n",
       "  'backtestingScores': None,\n",
       "  'crossValidation': 0.764432,\n",
       "  'validation': 0.7774},\n",
       " 'AUC': {'backtesting': None,\n",
       "  'holdout': None,\n",
       "  'backtestingScores': None,\n",
       "  'crossValidation': 0.8009539999999999,\n",
       "  'validation': 0.77578},\n",
       " 'Balanced Accuracy': {'backtesting': None,\n",
       "  'holdout': None,\n",
       "  'backtestingScores': None,\n",
       "  'crossValidation': 0.634248,\n",
       "  'validation': 0.60646},\n",
       " 'Accuracy': {'backtesting': None,\n",
       "  'holdout': None,\n",
       "  'backtestingScores': None,\n",
       "  'crossValidation': 0.65327,\n",
       "  'validation': 0.64274}}"
      ]
     },
     "execution_count": 35,
     "metadata": {},
     "output_type": "execute_result"
    }
   ],
   "source": [
    "# quick metrics for the model\n",
    "example_model.metrics"
   ]
  },
  {
   "cell_type": "code",
   "execution_count": 36,
   "metadata": {},
   "outputs": [
    {
     "name": "stdout",
     "output_type": "stream",
     "text": [
      "[ConfusionChart(validation), ConfusionChart(crossValidation)]\n"
     ]
    }
   ],
   "source": [
    "# Get the Confusion Chart data for the selected model.\n",
    "cms = example_model.get_all_confusion_charts()\n",
    "print(cms)"
   ]
  },
  {
   "cell_type": "code",
   "execution_count": 44,
   "metadata": {},
   "outputs": [
    {
     "name": "stdout",
     "output_type": "stream",
     "text": [
      "['High', 'Low', 'Med']\n",
      "[[ 60   7  57]\n",
      " [  4 115  69]\n",
      " [ 37  50 228]]\n",
      "This confusion matrix is for model trained over 16.0 % data\n"
     ]
    }
   ],
   "source": [
    "validation_results = cms[0]\n",
    "print(validation_results.classes)\n",
    "cm_validation = validation_results.confusion_matrix\n",
    "from numpy import array\n",
    "cm_validation = array(cm_validation)\n",
    "print(cm_validation)\n",
    "print('This confusion matrix is for model trained over',round(sum(sum(cm_validation))/data_train.shape[0] * 100),'% data')"
   ]
  },
  {
   "cell_type": "code",
   "execution_count": 45,
   "metadata": {},
   "outputs": [
    {
     "name": "stdout",
     "output_type": "stream",
     "text": [
      "crossValidation\n",
      "[[369  26 282]\n",
      " [ 27 689 333]\n",
      " [160 259 990]]\n",
      "This confusion matrix is for model trained over 80.0 % data\n"
     ]
    }
   ],
   "source": [
    "crossValidation_results = cms[1]\n",
    "print(crossValidation_results.source)\n",
    "cm_crossValidation = crossValidation_results.confusion_matrix\n",
    "from numpy import array\n",
    "cm_crossValidation = array(cm_crossValidation)\n",
    "print(cm_crossValidation)\n",
    "print('This confusion matrix is for model trained over',round(sum(sum(cm_crossValidation))/data_train.shape[0] * 100),'% data')"
   ]
  },
  {
   "cell_type": "code",
   "execution_count": 46,
   "metadata": {},
   "outputs": [
    {
     "name": "stdout",
     "output_type": "stream",
     "text": [
      "3\n"
     ]
    },
    {
     "data": {
      "text/plain": [
       "{'classes': ['High', 'Low', 'Med'],\n",
       " 'confusion_matrix': [[369, 26, 282], [27, 689, 333], [160, 259, 990]],\n",
       " 'class_metrics': [{'class_name': 'High',\n",
       "   'actual_count': 677,\n",
       "   'predicted_count': 556,\n",
       "   'f1': 0.5985401459854015,\n",
       "   'recall': 0.5450516986706057,\n",
       "   'precision': 0.6636690647482014,\n",
       "   'confusion_matrix_one_vs_all': [[2271, 187], [308, 369]],\n",
       "   'was_actual_percentages': [{'other_class_name': 'High',\n",
       "     'percentage': 0.5450516986706057},\n",
       "    {'other_class_name': 'Low', 'percentage': 0.03840472673559823},\n",
       "    {'other_class_name': 'Med', 'percentage': 0.41654357459379615}],\n",
       "   'was_predicted_percentages': [{'other_class_name': 'High',\n",
       "     'percentage': 0.6636690647482014},\n",
       "    {'other_class_name': 'Low', 'percentage': 0.048561151079136694},\n",
       "    {'other_class_name': 'Med', 'percentage': 0.28776978417266186}]},\n",
       "  {'class_name': 'Low',\n",
       "   'actual_count': 1049,\n",
       "   'predicted_count': 974,\n",
       "   'f1': 0.6811665842807711,\n",
       "   'recall': 0.6568160152526216,\n",
       "   'precision': 0.7073921971252567,\n",
       "   'confusion_matrix_one_vs_all': [[1801, 285], [360, 689]],\n",
       "   'was_actual_percentages': [{'other_class_name': 'High',\n",
       "     'percentage': 0.025738798856053385},\n",
       "    {'other_class_name': 'Low', 'percentage': 0.6568160152526216},\n",
       "    {'other_class_name': 'Med', 'percentage': 0.3174451858913251}],\n",
       "   'was_predicted_percentages': [{'other_class_name': 'High',\n",
       "     'percentage': 0.026694045174537988},\n",
       "    {'other_class_name': 'Low', 'percentage': 0.7073921971252567},\n",
       "    {'other_class_name': 'Med', 'percentage': 0.26591375770020537}]},\n",
       "  {'class_name': 'Med',\n",
       "   'actual_count': 1409,\n",
       "   'predicted_count': 1605,\n",
       "   'f1': 0.6569343065693432,\n",
       "   'recall': 0.7026259758694109,\n",
       "   'precision': 0.616822429906542,\n",
       "   'confusion_matrix_one_vs_all': [[1111, 615], [419, 990]],\n",
       "   'was_actual_percentages': [{'other_class_name': 'High',\n",
       "     'percentage': 0.11355571327182398},\n",
       "    {'other_class_name': 'Low', 'percentage': 0.18381831085876507},\n",
       "    {'other_class_name': 'Med', 'percentage': 0.7026259758694109}],\n",
       "   'was_predicted_percentages': [{'other_class_name': 'High',\n",
       "     'percentage': 0.17570093457943925},\n",
       "    {'other_class_name': 'Low', 'percentage': 0.20747663551401868},\n",
       "    {'other_class_name': 'Med', 'percentage': 0.616822429906542}]}]}"
      ]
     },
     "execution_count": 46,
     "metadata": {},
     "output_type": "execute_result"
    }
   ],
   "source": [
    "raw_results = crossValidation_results.raw_data\n",
    "print(len(raw_results))\n",
    "raw_results"
   ]
  },
  {
   "cell_type": "code",
   "execution_count": 47,
   "metadata": {},
   "outputs": [
    {
     "name": "stdout",
     "output_type": "stream",
     "text": [
      "[[369  26 282]\n",
      " [ 27 689 333]\n",
      " [160 259 990]]\n"
     ]
    }
   ],
   "source": [
    "# extract confusion matrix from raw results\n",
    "cm = raw_results.get('confusion_matrix')\n",
    "\n",
    "from numpy import array\n",
    "cm = array(cm)\n",
    "print(cm)"
   ]
  },
  {
   "cell_type": "code",
   "execution_count": 48,
   "metadata": {},
   "outputs": [
    {
     "data": {
      "text/html": [
       "<div>\n",
       "<style scoped>\n",
       "    .dataframe tbody tr th:only-of-type {\n",
       "        vertical-align: middle;\n",
       "    }\n",
       "\n",
       "    .dataframe tbody tr th {\n",
       "        vertical-align: top;\n",
       "    }\n",
       "\n",
       "    .dataframe thead th {\n",
       "        text-align: right;\n",
       "    }\n",
       "</style>\n",
       "<table border=\"1\" class=\"dataframe\">\n",
       "  <thead>\n",
       "    <tr style=\"text-align: right;\">\n",
       "      <th></th>\n",
       "      <th>Class</th>\n",
       "      <th>precision</th>\n",
       "      <th>recall</th>\n",
       "      <th>f1</th>\n",
       "    </tr>\n",
       "  </thead>\n",
       "  <tbody>\n",
       "    <tr>\n",
       "      <th>0</th>\n",
       "      <td>High</td>\n",
       "      <td>0.663669</td>\n",
       "      <td>0.545052</td>\n",
       "      <td>0.598540</td>\n",
       "    </tr>\n",
       "    <tr>\n",
       "      <th>1</th>\n",
       "      <td>Low</td>\n",
       "      <td>0.707392</td>\n",
       "      <td>0.656816</td>\n",
       "      <td>0.681167</td>\n",
       "    </tr>\n",
       "    <tr>\n",
       "      <th>2</th>\n",
       "      <td>Med</td>\n",
       "      <td>0.616822</td>\n",
       "      <td>0.702626</td>\n",
       "      <td>0.656934</td>\n",
       "    </tr>\n",
       "  </tbody>\n",
       "</table>\n",
       "</div>"
      ],
      "text/plain": [
       "  Class  precision    recall        f1\n",
       "0  High   0.663669  0.545052  0.598540\n",
       "1   Low   0.707392  0.656816  0.681167\n",
       "2   Med   0.616822  0.702626  0.656934"
      ]
     },
     "execution_count": 48,
     "metadata": {},
     "output_type": "execute_result"
    }
   ],
   "source": [
    "# Extract precion, recall and f1 for the three classes using one vs all confusion matrix from raw_results\n",
    "num_class = len(raw_results.get('class_metrics'))\n",
    "df_examplemodelmetrics = pd.DataFrame(columns = ['Class', 'precision', 'recall', 'f1']) ##create empty df\n",
    "for n in range(num_class):\n",
    "    list_row = [raw_results.get('class_metrics')[n].get('class_name') , raw_results.get('class_metrics')[n].get('precision') ,\\\n",
    "               raw_results.get('class_metrics')[n].get('recall'), raw_results.get('class_metrics')[n].get('f1')]\n",
    "    df_examplemodelmetrics.loc[n] = list_row\n",
    "\n",
    "df_examplemodelmetrics"
   ]
  },
  {
   "cell_type": "code",
   "execution_count": 51,
   "metadata": {},
   "outputs": [
    {
     "name": "stdout",
     "output_type": "stream",
     "text": [
      "(3918, 6) (3918, 12)\n"
     ]
    },
    {
     "data": {
      "text/html": [
       "<div>\n",
       "<style scoped>\n",
       "    .dataframe tbody tr th:only-of-type {\n",
       "        vertical-align: middle;\n",
       "    }\n",
       "\n",
       "    .dataframe tbody tr th {\n",
       "        vertical-align: top;\n",
       "    }\n",
       "\n",
       "    .dataframe thead th {\n",
       "        text-align: right;\n",
       "    }\n",
       "</style>\n",
       "<table border=\"1\" class=\"dataframe\">\n",
       "  <thead>\n",
       "    <tr style=\"text-align: right;\">\n",
       "      <th></th>\n",
       "      <th>row_id</th>\n",
       "      <th>partition_id</th>\n",
       "      <th>prediction</th>\n",
       "      <th>class_High</th>\n",
       "      <th>class_Low</th>\n",
       "      <th>class_Med</th>\n",
       "    </tr>\n",
       "  </thead>\n",
       "  <tbody>\n",
       "    <tr>\n",
       "      <th>0</th>\n",
       "      <td>0</td>\n",
       "      <td>0.0</td>\n",
       "      <td>Med</td>\n",
       "      <td>0.107690</td>\n",
       "      <td>0.371781</td>\n",
       "      <td>0.520530</td>\n",
       "    </tr>\n",
       "    <tr>\n",
       "      <th>1</th>\n",
       "      <td>1</td>\n",
       "      <td>Holdout</td>\n",
       "      <td>Med</td>\n",
       "      <td>0.220519</td>\n",
       "      <td>0.113145</td>\n",
       "      <td>0.666337</td>\n",
       "    </tr>\n",
       "    <tr>\n",
       "      <th>2</th>\n",
       "      <td>2</td>\n",
       "      <td>Holdout</td>\n",
       "      <td>High</td>\n",
       "      <td>0.777393</td>\n",
       "      <td>0.007210</td>\n",
       "      <td>0.215397</td>\n",
       "    </tr>\n",
       "    <tr>\n",
       "      <th>3</th>\n",
       "      <td>3</td>\n",
       "      <td>4.0</td>\n",
       "      <td>Med</td>\n",
       "      <td>0.166114</td>\n",
       "      <td>0.031088</td>\n",
       "      <td>0.802798</td>\n",
       "    </tr>\n",
       "    <tr>\n",
       "      <th>4</th>\n",
       "      <td>4</td>\n",
       "      <td>0.0</td>\n",
       "      <td>Low</td>\n",
       "      <td>0.017350</td>\n",
       "      <td>0.713016</td>\n",
       "      <td>0.269634</td>\n",
       "    </tr>\n",
       "  </tbody>\n",
       "</table>\n",
       "</div>"
      ],
      "text/plain": [
       "   row_id partition_id prediction  class_High  class_Low  class_Med\n",
       "0       0          0.0        Med    0.107690   0.371781   0.520530\n",
       "1       1      Holdout        Med    0.220519   0.113145   0.666337\n",
       "2       2      Holdout       High    0.777393   0.007210   0.215397\n",
       "3       3          4.0        Med    0.166114   0.031088   0.802798\n",
       "4       4          0.0        Low    0.017350   0.713016   0.269634"
      ]
     },
     "execution_count": 51,
     "metadata": {},
     "output_type": "execute_result"
    }
   ],
   "source": [
    "# Fetch training predictions on all dataset\n",
    "training_predictions_job = example_model.request_training_predictions(dr.enums.DATA_SUBSET.ALL)\n",
    "training_predictions = training_predictions_job.get_result_when_complete()\n",
    "\n",
    "# training predictions as a dataframe\n",
    "training_predictions_df = training_predictions.get_all_as_dataframe()\n",
    "print(training_predictions_df.shape, data_train.shape)\n",
    "training_predictions_df.head()"
   ]
  },
  {
   "cell_type": "code",
   "execution_count": 52,
   "metadata": {},
   "outputs": [
    {
     "name": "stdout",
     "output_type": "stream",
     "text": [
      "(783, 6)\n",
      "Holdout is 20 % of the data\n"
     ]
    }
   ],
   "source": [
    "holdout_rows = training_predictions_df[training_predictions_df['partition_id'] == 'Holdout'].shape\n",
    "print(holdout_rows)\n",
    "print('Holdout is',round(holdout_rows[0]/(data_train.shape[0])*100),'% of the data')"
   ]
  },
  {
   "cell_type": "code",
   "execution_count": null,
   "metadata": {},
   "outputs": [],
   "source": [
    "# We can also fetch training predictions and save them to file\n",
    "training_predictions.download_to_csv('training-predictions_wine1.csv')"
   ]
  },
  {
   "cell_type": "code",
   "execution_count": 53,
   "metadata": {},
   "outputs": [
    {
     "name": "stdout",
     "output_type": "stream",
     "text": [
      "(3135, 2)\n"
     ]
    },
    {
     "data": {
      "text/html": [
       "<div>\n",
       "<style scoped>\n",
       "    .dataframe tbody tr th:only-of-type {\n",
       "        vertical-align: middle;\n",
       "    }\n",
       "\n",
       "    .dataframe tbody tr th {\n",
       "        vertical-align: top;\n",
       "    }\n",
       "\n",
       "    .dataframe thead th {\n",
       "        text-align: right;\n",
       "    }\n",
       "</style>\n",
       "<table border=\"1\" class=\"dataframe\">\n",
       "  <thead>\n",
       "    <tr style=\"text-align: right;\">\n",
       "      <th></th>\n",
       "      <th>actual</th>\n",
       "      <th>prediction</th>\n",
       "    </tr>\n",
       "  </thead>\n",
       "  <tbody>\n",
       "    <tr>\n",
       "      <th>4751</th>\n",
       "      <td>Med</td>\n",
       "      <td>Med</td>\n",
       "    </tr>\n",
       "    <tr>\n",
       "      <th>1590</th>\n",
       "      <td>Med</td>\n",
       "      <td>Med</td>\n",
       "    </tr>\n",
       "    <tr>\n",
       "      <th>391</th>\n",
       "      <td>Low</td>\n",
       "      <td>Low</td>\n",
       "    </tr>\n",
       "    <tr>\n",
       "      <th>4258</th>\n",
       "      <td>Med</td>\n",
       "      <td>Med</td>\n",
       "    </tr>\n",
       "    <tr>\n",
       "      <th>4405</th>\n",
       "      <td>Low</td>\n",
       "      <td>Low</td>\n",
       "    </tr>\n",
       "  </tbody>\n",
       "</table>\n",
       "</div>"
      ],
      "text/plain": [
       "     actual prediction\n",
       "4751    Med        Med\n",
       "1590    Med        Med\n",
       "391     Low        Low\n",
       "4258    Med        Med\n",
       "4405    Low        Low"
      ]
     },
     "execution_count": 53,
     "metadata": {},
     "output_type": "execute_result"
    }
   ],
   "source": [
    "# With the training predictions retrieved as data frame the metrics can also be calculated using scikit-learn\n",
    "df_trpred = pd.DataFrame(columns = ['actual', 'prediction','partition_id']) #create empty df\n",
    "df_trpred['actual'] = data_train['target']\n",
    "df_trpred['prediction'] = training_predictions_df['prediction'].values\n",
    "df_trpred['partition_id'] = training_predictions_df['partition_id'].values\n",
    "df_trpred = df_trpred[df_trpred['partition_id'] != 'Holdout'] # to check performance on Holdout extract == 'Holdout'\n",
    "df_trpred = df_trpred.drop('partition_id',axis=1)\n",
    "print(df_trpred.shape)\n",
    "df_trpred.head()  "
   ]
  },
  {
   "cell_type": "code",
   "execution_count": 54,
   "metadata": {},
   "outputs": [
    {
     "name": "stdout",
     "output_type": "stream",
     "text": [
      "[[378  33 266]\n",
      " [ 29 699 321]\n",
      " [192 266 951]]\n",
      "Accuracy =  0.6468899521531101\n",
      "Avg Precision =  0.6499293517249791\n",
      "Avg Recall =  0.6332137723392836\n",
      "Precision [High, Med, Low] =  [0.63105175 0.6183355  0.7004008 ]\n",
      "Recall [High, Med, Low] =   [0.63105175 0.6183355  0.7004008 ]\n"
     ]
    }
   ],
   "source": [
    "from sklearn.metrics import confusion_matrix, recall_score, accuracy_score, precision_score\n",
    "cm = confusion_matrix(df_trpred['actual'], df_trpred['prediction'])\n",
    "print(cm)\n",
    "print('Accuracy = ',accuracy_score(df_trpred['actual'], df_trpred['prediction']))\n",
    "print('Avg Precision = ',precision_score(df_trpred['actual'], df_trpred['prediction'], average='macro'))\n",
    "print('Avg Recall = ',recall_score(df_trpred['actual'], df_trpred['prediction'], average='macro'))\n",
    "print('Precision [High, Med, Low] = ',precision_score(df_trpred['actual'], df_trpred['prediction'], average=None, labels = ['High','Med','Low']))\n",
    "print('Recall [High, Med, Low] =  ',precision_score(df_trpred['actual'], df_trpred['prediction'], average=None, labels = ['High','Med','Low']))"
   ]
  },
  {
   "cell_type": "markdown",
   "metadata": {},
   "source": [
    "### Performance on Test Data\n",
    "\n",
    "Now we want to test the performance if the selected model on test data. We will upload the test data, start a predict job and retrieve the predictions."
   ]
  },
  {
   "cell_type": "code",
   "execution_count": 56,
   "metadata": {},
   "outputs": [
    {
     "name": "stdout",
     "output_type": "stream",
     "text": [
      "(980, 12)\n"
     ]
    }
   ],
   "source": [
    "# upload test dataset\n",
    "data_test_dr = project1_wine.upload_dataset(data_test)\n",
    "print(data_test.shape)"
   ]
  },
  {
   "cell_type": "code",
   "execution_count": 57,
   "metadata": {},
   "outputs": [],
   "source": [
    "# start a predict job\n",
    "predict_job = example_model.request_predictions(data_test_dr.id)"
   ]
  },
  {
   "cell_type": "code",
   "execution_count": 58,
   "metadata": {},
   "outputs": [
    {
     "name": "stdout",
     "output_type": "stream",
     "text": [
      "PredictJob(Model('5ca3c3ab902fe949f35fac3a'), status=inprogress)\n",
      "83\n"
     ]
    }
   ],
   "source": [
    "print(predict_job)\n",
    "print(predict_job.id)"
   ]
  },
  {
   "cell_type": "code",
   "execution_count": 59,
   "metadata": {},
   "outputs": [
    {
     "name": "stdout",
     "output_type": "stream",
     "text": [
      "  prediction  row_id  class_High  class_Low  class_Med\n",
      "0        Med       0    0.222951   0.047465   0.729585\n",
      "1        Med       1    0.174603   0.266344   0.559053\n",
      "2        Low       2    0.011364   0.604244   0.384392\n",
      "3        Low       3    0.062881   0.489463   0.447657\n",
      "4        Low       4    0.002840   0.882492   0.114668\n"
     ]
    }
   ],
   "source": [
    "# retrieve the predictions when complete\n",
    "predictions = predict_job.get_result_when_complete()\n",
    "print(predictions.head())"
   ]
  },
  {
   "cell_type": "code",
   "execution_count": 60,
   "metadata": {},
   "outputs": [
    {
     "name": "stdout",
     "output_type": "stream",
     "text": [
      "(980, 5) (980, 12)\n"
     ]
    }
   ],
   "source": [
    "print(predictions.shape, data_test.shape)"
   ]
  },
  {
   "cell_type": "code",
   "execution_count": 61,
   "metadata": {},
   "outputs": [
    {
     "data": {
      "text/html": [
       "<div>\n",
       "<style scoped>\n",
       "    .dataframe tbody tr th:only-of-type {\n",
       "        vertical-align: middle;\n",
       "    }\n",
       "\n",
       "    .dataframe tbody tr th {\n",
       "        vertical-align: top;\n",
       "    }\n",
       "\n",
       "    .dataframe thead th {\n",
       "        text-align: right;\n",
       "    }\n",
       "</style>\n",
       "<table border=\"1\" class=\"dataframe\">\n",
       "  <thead>\n",
       "    <tr style=\"text-align: right;\">\n",
       "      <th></th>\n",
       "      <th>actual</th>\n",
       "      <th>prediction</th>\n",
       "    </tr>\n",
       "  </thead>\n",
       "  <tbody>\n",
       "    <tr>\n",
       "      <th>3511</th>\n",
       "      <td>High</td>\n",
       "      <td>Med</td>\n",
       "    </tr>\n",
       "    <tr>\n",
       "      <th>1737</th>\n",
       "      <td>Med</td>\n",
       "      <td>Med</td>\n",
       "    </tr>\n",
       "    <tr>\n",
       "      <th>1608</th>\n",
       "      <td>Low</td>\n",
       "      <td>Low</td>\n",
       "    </tr>\n",
       "    <tr>\n",
       "      <th>2</th>\n",
       "      <td>Med</td>\n",
       "      <td>Low</td>\n",
       "    </tr>\n",
       "    <tr>\n",
       "      <th>221</th>\n",
       "      <td>Med</td>\n",
       "      <td>Low</td>\n",
       "    </tr>\n",
       "  </tbody>\n",
       "</table>\n",
       "</div>"
      ],
      "text/plain": [
       "     actual prediction\n",
       "3511   High        Med\n",
       "1737    Med        Med\n",
       "1608    Low        Low\n",
       "2       Med        Low\n",
       "221     Med        Low"
      ]
     },
     "execution_count": 61,
     "metadata": {},
     "output_type": "execute_result"
    }
   ],
   "source": [
    "# With the predictions retrieved as data frame the metrics can be calculated using scikit-learn\n",
    "df_testpred = pd.DataFrame(columns = ['actual', 'prediction']) #create empty df\n",
    "df_testpred['actual'] = data_test['target']\n",
    "df_testpred['prediction'] = predictions['prediction'].values\n",
    "df_testpred.head()  "
   ]
  },
  {
   "cell_type": "code",
   "execution_count": 62,
   "metadata": {},
   "outputs": [
    {
     "name": "stdout",
     "output_type": "stream",
     "text": [
      "[[129  10  73]\n",
      " [  6 222 100]\n",
      " [ 50  84 306]]\n",
      "Accuracy =  0.6468899521531101\n",
      "Avg Precision =  0.6499293517249791\n",
      "Avg Recall =  0.6332137723392836\n",
      "Precision [High, Med, Low] =  [0.63105175 0.6183355  0.7004008 ]\n",
      "Recall [High, Med, Low] =   [0.63105175 0.6183355  0.7004008 ]\n"
     ]
    }
   ],
   "source": [
    "from sklearn.metrics import confusion_matrix, recall_score, accuracy_score, precision_score\n",
    "cm = confusion_matrix(df_testpred['actual'], df_testpred['prediction'])\n",
    "print(cm)\n",
    "print('Accuracy = ',accuracy_score(df_trpred['actual'], df_trpred['prediction']))\n",
    "print('Avg Precision = ',precision_score(df_trpred['actual'], df_trpred['prediction'], average='macro'))\n",
    "print('Avg Recall = ',recall_score(df_trpred['actual'], df_trpred['prediction'], average='macro'))\n",
    "print('Precision [High, Med, Low] = ',precision_score(df_trpred['actual'], df_trpred['prediction'], average=None, labels = ['High','Med','Low']))\n",
    "print('Recall [High, Med, Low] =  ',precision_score(df_trpred['actual'], df_trpred['prediction'], average=None, labels = ['High','Med','Low']))"
   ]
  },
  {
   "cell_type": "markdown",
   "metadata": {},
   "source": [
    "The selected model extreme gradient boosted tree had an accuracy of 64.7% on test data with average precision and recall of 65% and 63% respectively."
   ]
  },
  {
   "cell_type": "markdown",
   "metadata": {},
   "source": [
    "### Feature Impact\n",
    "\n",
    "Next let us retrieve the computed Feature Impact results, a measure of the relevance of each feature in the model. Feature Impact is computed for each column using the ‘Permutation Importance’ technique wherein new data is created by randomly shuffle that column, leaving the target and all other columns in place. Then we look at how the error metric score for the predictions is affected due to this random re-ordering of that column. The undelying idea is that the predictions would be less accurate, since the resulting data no longer corresponds to anything observed in the real world and would be worse when we shuffle a column that the model relied on heavily for predictions."
   ]
  },
  {
   "cell_type": "code",
   "execution_count": 63,
   "metadata": {},
   "outputs": [
    {
     "data": {
      "text/plain": [
       "[Feature(alcohol),\n",
       " Feature(chlorides),\n",
       " Feature(density),\n",
       " Feature(sulphates),\n",
       " Feature(fixed_acidity),\n",
       " Feature(free_sulfur_dioxide),\n",
       " Feature(residual_sugar),\n",
       " Feature(volatile_acidity),\n",
       " Feature(pH),\n",
       " Feature(total_sulfur_dioxide),\n",
       " Feature(citric_acid),\n",
       " Feature(target)]"
      ]
     },
     "execution_count": 63,
     "metadata": {},
     "output_type": "execute_result"
    }
   ],
   "source": [
    "# features used for project_wine1\n",
    "features = project1_wine.get_features()\n",
    "features"
   ]
  },
  {
   "cell_type": "code",
   "execution_count": 64,
   "metadata": {},
   "outputs": [
    {
     "data": {
      "text/html": [
       "<div>\n",
       "<style scoped>\n",
       "    .dataframe tbody tr th:only-of-type {\n",
       "        vertical-align: middle;\n",
       "    }\n",
       "\n",
       "    .dataframe tbody tr th {\n",
       "        vertical-align: top;\n",
       "    }\n",
       "\n",
       "    .dataframe thead th {\n",
       "        text-align: right;\n",
       "    }\n",
       "</style>\n",
       "<table border=\"1\" class=\"dataframe\">\n",
       "  <thead>\n",
       "    <tr style=\"text-align: right;\">\n",
       "      <th></th>\n",
       "      <th>date_format</th>\n",
       "      <th>feature_type</th>\n",
       "      <th>id</th>\n",
       "      <th>importance</th>\n",
       "      <th>low_information</th>\n",
       "      <th>max</th>\n",
       "      <th>mean</th>\n",
       "      <th>median</th>\n",
       "      <th>min</th>\n",
       "      <th>na_count</th>\n",
       "      <th>name</th>\n",
       "      <th>project_id</th>\n",
       "      <th>std_dev</th>\n",
       "      <th>target_leakage</th>\n",
       "      <th>time_series_eligibility_reason</th>\n",
       "      <th>time_series_eligible</th>\n",
       "      <th>time_step</th>\n",
       "      <th>time_unit</th>\n",
       "      <th>unique_count</th>\n",
       "    </tr>\n",
       "  </thead>\n",
       "  <tbody>\n",
       "    <tr>\n",
       "      <th>0</th>\n",
       "      <td>None</td>\n",
       "      <td>Numeric</td>\n",
       "      <td>10</td>\n",
       "      <td>1.0</td>\n",
       "      <td>False</td>\n",
       "      <td>14.200</td>\n",
       "      <td>10.520</td>\n",
       "      <td>10.400</td>\n",
       "      <td>8.000</td>\n",
       "      <td>0</td>\n",
       "      <td>alcohol</td>\n",
       "      <td>5ca3c341329c91358a505a1c</td>\n",
       "      <td>1.23000</td>\n",
       "      <td>SKIPPED_DETECTION</td>\n",
       "      <td>notADate</td>\n",
       "      <td>False</td>\n",
       "      <td>None</td>\n",
       "      <td>None</td>\n",
       "      <td>90</td>\n",
       "    </tr>\n",
       "    <tr>\n",
       "      <th>1</th>\n",
       "      <td>None</td>\n",
       "      <td>Numeric</td>\n",
       "      <td>4</td>\n",
       "      <td>1.0</td>\n",
       "      <td>False</td>\n",
       "      <td>0.260</td>\n",
       "      <td>0.046</td>\n",
       "      <td>0.043</td>\n",
       "      <td>0.009</td>\n",
       "      <td>0</td>\n",
       "      <td>chlorides</td>\n",
       "      <td>5ca3c341329c91358a505a1c</td>\n",
       "      <td>0.02060</td>\n",
       "      <td>SKIPPED_DETECTION</td>\n",
       "      <td>notADate</td>\n",
       "      <td>False</td>\n",
       "      <td>None</td>\n",
       "      <td>None</td>\n",
       "      <td>135</td>\n",
       "    </tr>\n",
       "    <tr>\n",
       "      <th>2</th>\n",
       "      <td>None</td>\n",
       "      <td>Numeric</td>\n",
       "      <td>7</td>\n",
       "      <td>1.0</td>\n",
       "      <td>False</td>\n",
       "      <td>1.039</td>\n",
       "      <td>0.990</td>\n",
       "      <td>0.990</td>\n",
       "      <td>0.990</td>\n",
       "      <td>0</td>\n",
       "      <td>density</td>\n",
       "      <td>5ca3c341329c91358a505a1c</td>\n",
       "      <td>0.00305</td>\n",
       "      <td>SKIPPED_DETECTION</td>\n",
       "      <td>notADate</td>\n",
       "      <td>False</td>\n",
       "      <td>None</td>\n",
       "      <td>None</td>\n",
       "      <td>781</td>\n",
       "    </tr>\n",
       "    <tr>\n",
       "      <th>3</th>\n",
       "      <td>None</td>\n",
       "      <td>Numeric</td>\n",
       "      <td>9</td>\n",
       "      <td>1.0</td>\n",
       "      <td>False</td>\n",
       "      <td>1.080</td>\n",
       "      <td>0.490</td>\n",
       "      <td>0.480</td>\n",
       "      <td>0.230</td>\n",
       "      <td>0</td>\n",
       "      <td>sulphates</td>\n",
       "      <td>5ca3c341329c91358a505a1c</td>\n",
       "      <td>0.11000</td>\n",
       "      <td>SKIPPED_DETECTION</td>\n",
       "      <td>notADate</td>\n",
       "      <td>False</td>\n",
       "      <td>None</td>\n",
       "      <td>None</td>\n",
       "      <td>75</td>\n",
       "    </tr>\n",
       "    <tr>\n",
       "      <th>4</th>\n",
       "      <td>None</td>\n",
       "      <td>Numeric</td>\n",
       "      <td>0</td>\n",
       "      <td>1.0</td>\n",
       "      <td>False</td>\n",
       "      <td>14.200</td>\n",
       "      <td>6.850</td>\n",
       "      <td>6.800</td>\n",
       "      <td>3.800</td>\n",
       "      <td>0</td>\n",
       "      <td>fixed_acidity</td>\n",
       "      <td>5ca3c341329c91358a505a1c</td>\n",
       "      <td>0.85000</td>\n",
       "      <td>SKIPPED_DETECTION</td>\n",
       "      <td>notADate</td>\n",
       "      <td>False</td>\n",
       "      <td>None</td>\n",
       "      <td>None</td>\n",
       "      <td>65</td>\n",
       "    </tr>\n",
       "    <tr>\n",
       "      <th>5</th>\n",
       "      <td>None</td>\n",
       "      <td>Numeric</td>\n",
       "      <td>5</td>\n",
       "      <td>1.0</td>\n",
       "      <td>False</td>\n",
       "      <td>289.000</td>\n",
       "      <td>35.210</td>\n",
       "      <td>34.000</td>\n",
       "      <td>2.000</td>\n",
       "      <td>0</td>\n",
       "      <td>free_sulfur_dioxide</td>\n",
       "      <td>5ca3c341329c91358a505a1c</td>\n",
       "      <td>17.04600</td>\n",
       "      <td>SKIPPED_DETECTION</td>\n",
       "      <td>notADate</td>\n",
       "      <td>False</td>\n",
       "      <td>None</td>\n",
       "      <td>None</td>\n",
       "      <td>121</td>\n",
       "    </tr>\n",
       "    <tr>\n",
       "      <th>6</th>\n",
       "      <td>None</td>\n",
       "      <td>Numeric</td>\n",
       "      <td>3</td>\n",
       "      <td>1.0</td>\n",
       "      <td>False</td>\n",
       "      <td>65.800</td>\n",
       "      <td>6.360</td>\n",
       "      <td>5.200</td>\n",
       "      <td>0.600</td>\n",
       "      <td>0</td>\n",
       "      <td>residual_sugar</td>\n",
       "      <td>5ca3c341329c91358a505a1c</td>\n",
       "      <td>5.12000</td>\n",
       "      <td>SKIPPED_DETECTION</td>\n",
       "      <td>notADate</td>\n",
       "      <td>False</td>\n",
       "      <td>None</td>\n",
       "      <td>None</td>\n",
       "      <td>280</td>\n",
       "    </tr>\n",
       "    <tr>\n",
       "      <th>7</th>\n",
       "      <td>None</td>\n",
       "      <td>Numeric</td>\n",
       "      <td>1</td>\n",
       "      <td>1.0</td>\n",
       "      <td>False</td>\n",
       "      <td>1.100</td>\n",
       "      <td>0.280</td>\n",
       "      <td>0.260</td>\n",
       "      <td>0.080</td>\n",
       "      <td>0</td>\n",
       "      <td>volatile_acidity</td>\n",
       "      <td>5ca3c341329c91358a505a1c</td>\n",
       "      <td>0.10100</td>\n",
       "      <td>SKIPPED_DETECTION</td>\n",
       "      <td>notADate</td>\n",
       "      <td>False</td>\n",
       "      <td>None</td>\n",
       "      <td>None</td>\n",
       "      <td>113</td>\n",
       "    </tr>\n",
       "    <tr>\n",
       "      <th>8</th>\n",
       "      <td>None</td>\n",
       "      <td>Numeric</td>\n",
       "      <td>8</td>\n",
       "      <td>1.0</td>\n",
       "      <td>False</td>\n",
       "      <td>3.800</td>\n",
       "      <td>3.190</td>\n",
       "      <td>3.180</td>\n",
       "      <td>2.720</td>\n",
       "      <td>0</td>\n",
       "      <td>pH</td>\n",
       "      <td>5ca3c341329c91358a505a1c</td>\n",
       "      <td>0.15000</td>\n",
       "      <td>SKIPPED_DETECTION</td>\n",
       "      <td>notADate</td>\n",
       "      <td>False</td>\n",
       "      <td>None</td>\n",
       "      <td>None</td>\n",
       "      <td>100</td>\n",
       "    </tr>\n",
       "    <tr>\n",
       "      <th>9</th>\n",
       "      <td>None</td>\n",
       "      <td>Numeric</td>\n",
       "      <td>6</td>\n",
       "      <td>1.0</td>\n",
       "      <td>False</td>\n",
       "      <td>440.000</td>\n",
       "      <td>138.190</td>\n",
       "      <td>134.000</td>\n",
       "      <td>9.000</td>\n",
       "      <td>0</td>\n",
       "      <td>total_sulfur_dioxide</td>\n",
       "      <td>5ca3c341329c91358a505a1c</td>\n",
       "      <td>42.15000</td>\n",
       "      <td>SKIPPED_DETECTION</td>\n",
       "      <td>notADate</td>\n",
       "      <td>False</td>\n",
       "      <td>None</td>\n",
       "      <td>None</td>\n",
       "      <td>234</td>\n",
       "    </tr>\n",
       "    <tr>\n",
       "      <th>10</th>\n",
       "      <td>None</td>\n",
       "      <td>Numeric</td>\n",
       "      <td>2</td>\n",
       "      <td>1.0</td>\n",
       "      <td>False</td>\n",
       "      <td>1.660</td>\n",
       "      <td>0.340</td>\n",
       "      <td>0.320</td>\n",
       "      <td>0.000</td>\n",
       "      <td>0</td>\n",
       "      <td>citric_acid</td>\n",
       "      <td>5ca3c341329c91358a505a1c</td>\n",
       "      <td>0.12000</td>\n",
       "      <td>SKIPPED_DETECTION</td>\n",
       "      <td>notADate</td>\n",
       "      <td>False</td>\n",
       "      <td>None</td>\n",
       "      <td>None</td>\n",
       "      <td>85</td>\n",
       "    </tr>\n",
       "    <tr>\n",
       "      <th>11</th>\n",
       "      <td>None</td>\n",
       "      <td>Categorical</td>\n",
       "      <td>11</td>\n",
       "      <td>1.0</td>\n",
       "      <td>False</td>\n",
       "      <td>NaN</td>\n",
       "      <td>NaN</td>\n",
       "      <td>NaN</td>\n",
       "      <td>NaN</td>\n",
       "      <td>0</td>\n",
       "      <td>target</td>\n",
       "      <td>5ca3c341329c91358a505a1c</td>\n",
       "      <td>NaN</td>\n",
       "      <td>SKIPPED_DETECTION</td>\n",
       "      <td>notADate</td>\n",
       "      <td>False</td>\n",
       "      <td>None</td>\n",
       "      <td>None</td>\n",
       "      <td>3</td>\n",
       "    </tr>\n",
       "  </tbody>\n",
       "</table>\n",
       "</div>"
      ],
      "text/plain": [
       "   date_format feature_type  id  importance  low_information      max  \\\n",
       "0         None      Numeric  10         1.0            False   14.200   \n",
       "1         None      Numeric   4         1.0            False    0.260   \n",
       "2         None      Numeric   7         1.0            False    1.039   \n",
       "3         None      Numeric   9         1.0            False    1.080   \n",
       "4         None      Numeric   0         1.0            False   14.200   \n",
       "5         None      Numeric   5         1.0            False  289.000   \n",
       "6         None      Numeric   3         1.0            False   65.800   \n",
       "7         None      Numeric   1         1.0            False    1.100   \n",
       "8         None      Numeric   8         1.0            False    3.800   \n",
       "9         None      Numeric   6         1.0            False  440.000   \n",
       "10        None      Numeric   2         1.0            False    1.660   \n",
       "11        None  Categorical  11         1.0            False      NaN   \n",
       "\n",
       "       mean   median    min  na_count                  name  \\\n",
       "0    10.520   10.400  8.000         0               alcohol   \n",
       "1     0.046    0.043  0.009         0             chlorides   \n",
       "2     0.990    0.990  0.990         0               density   \n",
       "3     0.490    0.480  0.230         0             sulphates   \n",
       "4     6.850    6.800  3.800         0         fixed_acidity   \n",
       "5    35.210   34.000  2.000         0   free_sulfur_dioxide   \n",
       "6     6.360    5.200  0.600         0        residual_sugar   \n",
       "7     0.280    0.260  0.080         0      volatile_acidity   \n",
       "8     3.190    3.180  2.720         0                    pH   \n",
       "9   138.190  134.000  9.000         0  total_sulfur_dioxide   \n",
       "10    0.340    0.320  0.000         0           citric_acid   \n",
       "11      NaN      NaN    NaN         0                target   \n",
       "\n",
       "                  project_id   std_dev     target_leakage  \\\n",
       "0   5ca3c341329c91358a505a1c   1.23000  SKIPPED_DETECTION   \n",
       "1   5ca3c341329c91358a505a1c   0.02060  SKIPPED_DETECTION   \n",
       "2   5ca3c341329c91358a505a1c   0.00305  SKIPPED_DETECTION   \n",
       "3   5ca3c341329c91358a505a1c   0.11000  SKIPPED_DETECTION   \n",
       "4   5ca3c341329c91358a505a1c   0.85000  SKIPPED_DETECTION   \n",
       "5   5ca3c341329c91358a505a1c  17.04600  SKIPPED_DETECTION   \n",
       "6   5ca3c341329c91358a505a1c   5.12000  SKIPPED_DETECTION   \n",
       "7   5ca3c341329c91358a505a1c   0.10100  SKIPPED_DETECTION   \n",
       "8   5ca3c341329c91358a505a1c   0.15000  SKIPPED_DETECTION   \n",
       "9   5ca3c341329c91358a505a1c  42.15000  SKIPPED_DETECTION   \n",
       "10  5ca3c341329c91358a505a1c   0.12000  SKIPPED_DETECTION   \n",
       "11  5ca3c341329c91358a505a1c       NaN  SKIPPED_DETECTION   \n",
       "\n",
       "   time_series_eligibility_reason  time_series_eligible time_step time_unit  \\\n",
       "0                        notADate                 False      None      None   \n",
       "1                        notADate                 False      None      None   \n",
       "2                        notADate                 False      None      None   \n",
       "3                        notADate                 False      None      None   \n",
       "4                        notADate                 False      None      None   \n",
       "5                        notADate                 False      None      None   \n",
       "6                        notADate                 False      None      None   \n",
       "7                        notADate                 False      None      None   \n",
       "8                        notADate                 False      None      None   \n",
       "9                        notADate                 False      None      None   \n",
       "10                       notADate                 False      None      None   \n",
       "11                       notADate                 False      None      None   \n",
       "\n",
       "    unique_count  \n",
       "0             90  \n",
       "1            135  \n",
       "2            781  \n",
       "3             75  \n",
       "4             65  \n",
       "5            121  \n",
       "6            280  \n",
       "7            113  \n",
       "8            100  \n",
       "9            234  \n",
       "10            85  \n",
       "11             3  "
      ]
     },
     "execution_count": 64,
     "metadata": {},
     "output_type": "execute_result"
    }
   ],
   "source": [
    "pd.DataFrame([f.__dict__ for f in features])"
   ]
  },
  {
   "cell_type": "code",
   "execution_count": 65,
   "metadata": {},
   "outputs": [
    {
     "data": {
      "text/plain": [
       "[Featurelist(Raw Features),\n",
       " Featurelist(Informative Features),\n",
       " Featurelist(Univariate Selections),\n",
       " Featurelist(DR Reduced Features M22)]"
      ]
     },
     "execution_count": 65,
     "metadata": {},
     "output_type": "execute_result"
    }
   ],
   "source": [
    "feature_lists = project1_wine.get_featurelists()\n",
    "feature_lists"
   ]
  },
  {
   "cell_type": "code",
   "execution_count": 66,
   "metadata": {},
   "outputs": [
    {
     "data": {
      "text/plain": [
       "['alcohol',\n",
       " 'chlorides',\n",
       " 'citric_acid',\n",
       " 'density',\n",
       " 'fixed_acidity',\n",
       " 'free_sulfur_dioxide',\n",
       " 'pH',\n",
       " 'residual_sugar',\n",
       " 'sulphates',\n",
       " 'target',\n",
       " 'total_sulfur_dioxide',\n",
       " 'volatile_acidity']"
      ]
     },
     "execution_count": 66,
     "metadata": {},
     "output_type": "execute_result"
    }
   ],
   "source": [
    "# Features used in the selected model\n",
    "example_model.get_features_used()"
   ]
  },
  {
   "cell_type": "markdown",
   "metadata": {},
   "source": [
    "A prerequisite to computing prediction explanations is that you need to compute the feature impact for your model (this only needs to be done once per model):"
   ]
  },
  {
   "cell_type": "code",
   "execution_count": 67,
   "metadata": {},
   "outputs": [],
   "source": [
    "feature_impacts = example_model.get_or_request_feature_impact()"
   ]
  },
  {
   "cell_type": "code",
   "execution_count": 68,
   "metadata": {
    "scrolled": true
   },
   "outputs": [
    {
     "data": {
      "text/html": [
       "<div>\n",
       "<style scoped>\n",
       "    .dataframe tbody tr th:only-of-type {\n",
       "        vertical-align: middle;\n",
       "    }\n",
       "\n",
       "    .dataframe tbody tr th {\n",
       "        vertical-align: top;\n",
       "    }\n",
       "\n",
       "    .dataframe thead th {\n",
       "        text-align: right;\n",
       "    }\n",
       "</style>\n",
       "<table border=\"1\" class=\"dataframe\">\n",
       "  <thead>\n",
       "    <tr style=\"text-align: right;\">\n",
       "      <th></th>\n",
       "      <th>featureName</th>\n",
       "      <th>impactNormalized</th>\n",
       "      <th>impactUnnormalized</th>\n",
       "      <th>redundantWith</th>\n",
       "    </tr>\n",
       "  </thead>\n",
       "  <tbody>\n",
       "    <tr>\n",
       "      <th>0</th>\n",
       "      <td>alcohol</td>\n",
       "      <td>1.000000</td>\n",
       "      <td>0.306579</td>\n",
       "      <td>None</td>\n",
       "    </tr>\n",
       "    <tr>\n",
       "      <th>1</th>\n",
       "      <td>volatile_acidity</td>\n",
       "      <td>0.494697</td>\n",
       "      <td>0.151664</td>\n",
       "      <td>None</td>\n",
       "    </tr>\n",
       "    <tr>\n",
       "      <th>2</th>\n",
       "      <td>free_sulfur_dioxide</td>\n",
       "      <td>0.381062</td>\n",
       "      <td>0.116826</td>\n",
       "      <td>None</td>\n",
       "    </tr>\n",
       "    <tr>\n",
       "      <th>3</th>\n",
       "      <td>density</td>\n",
       "      <td>0.368299</td>\n",
       "      <td>0.112913</td>\n",
       "      <td>None</td>\n",
       "    </tr>\n",
       "    <tr>\n",
       "      <th>4</th>\n",
       "      <td>residual_sugar</td>\n",
       "      <td>0.343078</td>\n",
       "      <td>0.105180</td>\n",
       "      <td>None</td>\n",
       "    </tr>\n",
       "    <tr>\n",
       "      <th>5</th>\n",
       "      <td>citric_acid</td>\n",
       "      <td>0.323333</td>\n",
       "      <td>0.099127</td>\n",
       "      <td>None</td>\n",
       "    </tr>\n",
       "    <tr>\n",
       "      <th>6</th>\n",
       "      <td>pH</td>\n",
       "      <td>0.282351</td>\n",
       "      <td>0.086563</td>\n",
       "      <td>None</td>\n",
       "    </tr>\n",
       "    <tr>\n",
       "      <th>7</th>\n",
       "      <td>chlorides</td>\n",
       "      <td>0.272039</td>\n",
       "      <td>0.083402</td>\n",
       "      <td>None</td>\n",
       "    </tr>\n",
       "    <tr>\n",
       "      <th>8</th>\n",
       "      <td>total_sulfur_dioxide</td>\n",
       "      <td>0.264308</td>\n",
       "      <td>0.081031</td>\n",
       "      <td>None</td>\n",
       "    </tr>\n",
       "    <tr>\n",
       "      <th>9</th>\n",
       "      <td>fixed_acidity</td>\n",
       "      <td>0.197888</td>\n",
       "      <td>0.060668</td>\n",
       "      <td>None</td>\n",
       "    </tr>\n",
       "    <tr>\n",
       "      <th>10</th>\n",
       "      <td>sulphates</td>\n",
       "      <td>0.195497</td>\n",
       "      <td>0.059935</td>\n",
       "      <td>None</td>\n",
       "    </tr>\n",
       "  </tbody>\n",
       "</table>\n",
       "</div>"
      ],
      "text/plain": [
       "             featureName  impactNormalized  impactUnnormalized redundantWith\n",
       "0                alcohol          1.000000            0.306579          None\n",
       "1       volatile_acidity          0.494697            0.151664          None\n",
       "2    free_sulfur_dioxide          0.381062            0.116826          None\n",
       "3                density          0.368299            0.112913          None\n",
       "4         residual_sugar          0.343078            0.105180          None\n",
       "5            citric_acid          0.323333            0.099127          None\n",
       "6                     pH          0.282351            0.086563          None\n",
       "7              chlorides          0.272039            0.083402          None\n",
       "8   total_sulfur_dioxide          0.264308            0.081031          None\n",
       "9          fixed_acidity          0.197888            0.060668          None\n",
       "10             sulphates          0.195497            0.059935          None"
      ]
     },
     "execution_count": 68,
     "metadata": {},
     "output_type": "execute_result"
    }
   ],
   "source": [
    "pd.DataFrame(feature_impacts).sort_values(by=['impactNormalized'], ascending=False)"
   ]
  },
  {
   "cell_type": "markdown",
   "metadata": {},
   "source": [
    "The ‘impactUnnormalized’ is how much worse the error metric score is when making predictions on this modified data. The ‘impactNormalized’ is normalized so that the largest value is 1. In both cases, larger values indicate more important features. If a feature is a redundant feature, i.e. once other features are considered it doesn’t contribute much in additional, the ‘redundantWith’ value is the name of feature that has the highest correlation with this feature.  "
   ]
  },
  {
   "cell_type": "code",
   "execution_count": 69,
   "metadata": {},
   "outputs": [
    {
     "data": {
      "text/plain": [
       "Text(0.5,1.04,'Feature Impact')"
      ]
     },
     "execution_count": 69,
     "metadata": {},
     "output_type": "execute_result"
    },
    {
     "data": {
      "image/png": "[encoded data removed]",
      "text/plain": [
       "<Figure size 720x1008 with 1 Axes>"
      ]
     },
     "metadata": {},
     "output_type": "display_data"
    }
   ],
   "source": [
    "# Visualisation of feature importance\n",
    "%matplotlib inline\n",
    "import matplotlib.pyplot as plt\n",
    "import matplotlib.ticker as mtick\n",
    "\n",
    "#Let’s set some color constants to replicate visual style of DataRobot.\n",
    "dr_dark_blue = '#08233F'\n",
    "dr_blue = '#1F77B4'\n",
    "dr_orange = '#FF7F0E'\n",
    "dr_red = '#BE3C28'\n",
    "\n",
    "# Formats the ticks from a float into a percent\n",
    "percent_tick_fmt = mtick.PercentFormatter(xmax=1.0)\n",
    "\n",
    "impact_df = pd.DataFrame(feature_impacts)\n",
    "impact_df.sort_values(by='impactNormalized', ascending=True, inplace=True)\n",
    "\n",
    "# Positive values are blue, negative are red\n",
    "bar_colors = impact_df.impactNormalized.apply(lambda x: dr_red if x < 0\n",
    "                                              else dr_blue)\n",
    "\n",
    "ax = impact_df.plot.barh(x='featureName', y='impactNormalized',\n",
    "                         legend=False,\n",
    "                         color=bar_colors,\n",
    "                         figsize=(10, 14))\n",
    "ax.xaxis.set_major_formatter(percent_tick_fmt)\n",
    "ax.xaxis.set_tick_params(labeltop=True)\n",
    "ax.xaxis.grid(True, alpha=0.2)\n",
    "ax.set_facecolor(dr_dark_blue)\n",
    "\n",
    "plt.ylabel('')\n",
    "plt.xlabel('Effect')\n",
    "plt.xlim((None, 1))  # Allow for negative impact\n",
    "plt.title('Feature Impact', y=1.04)"
   ]
  },
  {
   "cell_type": "markdown",
   "metadata": {},
   "source": [
    "Along with Feature Impact DataRobot can also compute the prediction explanations for every row of the dataset. `This functionality is however not available for multiclass models.`"
   ]
  },
  {
   "cell_type": "markdown",
   "metadata": {},
   "source": [
    "<a name=\"quick\"></a>\n",
    "# AUTOPILOT_MODE.QUICK\n",
    "\n",
    "The quick mode (AUTOPILOT_MODE.QUICK) is for quickrun wherein we can run on a more limited set of models rather than the full recommended set of blueprints to get insights more quickly. In the autopilot quick mode, DataRobot built 8 models for my data in the quick mode from the 22 blueprints. We can select one of the models just like I showed above to look at the performance and to use it for getting predictions for the test data. In the quick mode DataRobot does not make any model recommendations."
   ]
  },
  {
   "cell_type": "code",
   "execution_count": 71,
   "metadata": {},
   "outputs": [
    {
     "name": "stdout",
     "output_type": "stream",
     "text": [
      "Time taken to start project_wine2 =  28.040800094604492 seconds\n",
      "In progress: 4, queued: 3 (waited: 0s)\n",
      "In progress: 4, queued: 3 (waited: 0s)\n",
      "In progress: 4, queued: 3 (waited: 1s)\n",
      "In progress: 4, queued: 3 (waited: 2s)\n",
      "In progress: 4, queued: 2 (waited: 3s)\n",
      "In progress: 4, queued: 1 (waited: 5s)\n",
      "In progress: 4, queued: 0 (waited: 8s)\n",
      "In progress: 3, queued: 0 (waited: 15s)\n",
      "In progress: 4, queued: 12 (waited: 28s)\n",
      "In progress: 4, queued: 8 (waited: 49s)\n",
      "In progress: 4, queued: 1 (waited: 69s)\n",
      "In progress: 0, queued: 0 (waited: 89s)\n",
      "Time taken to complete autopilot quick mode =  117.74620008468628 seconds\n"
     ]
    }
   ],
   "source": [
    "import time\n",
    "start = time.time()\n",
    "project_wine2 = dr.Project.create(data_train, project_name='shaheen_dr2')\n",
    "# Increase the worker count to your maximum available the project runs faster.\n",
    "#project.set_worker_count(-1)\n",
    "project_wine2.set_target('target', target_type=dr.enums.TARGET_TYPE.MULTICLASS, mode=dr.AUTOPILOT_MODE.QUICK)\n",
    "end_dr2a = time.time()\n",
    "print('Time taken to start project_wine2 = ',end_dr2a - start,'seconds')\n",
    "project_wine2.wait_for_autopilot()\n",
    "end_dr2b = time.time()\n",
    "print('Time taken to complete autopilot quick mode = ',end_dr2b - start,'seconds')"
   ]
  },
  {
   "cell_type": "code",
   "execution_count": 72,
   "metadata": {},
   "outputs": [
    {
     "name": "stdout",
     "output_type": "stream",
     "text": [
      "22\n"
     ]
    }
   ],
   "source": [
    "allblueprints = project_wine2.get_blueprints()\n",
    "print(len(allblueprints))"
   ]
  },
  {
   "cell_type": "code",
   "execution_count": 73,
   "metadata": {},
   "outputs": [
    {
     "name": "stdout",
     "output_type": "stream",
     "text": [
      "8\n"
     ]
    },
    {
     "data": {
      "text/plain": [
       "[Model('RandomForest Classifier (Gini)'),\n",
       " Model('AVG Blender'),\n",
       " Model('Light Gradient Boosted Trees Classifier with Early Stopping (SoftMax Loss) (16 leaves)'),\n",
       " Model('eXtreme Gradient Boosted Trees Classifier'),\n",
       " Model('Regularized Logistic Regression (L2)'),\n",
       " Model('TensorFlow Neural Network Classifier'),\n",
       " Model('Stochastic Gradient Descent Classifier'),\n",
       " Model('Vowpal Wabbit Classifier')]"
      ]
     },
     "execution_count": 73,
     "metadata": {},
     "output_type": "execute_result"
    }
   ],
   "source": [
    "allmodels = project_wine2.get_models()\n",
    "print(len(allmodels))\n",
    "allmodels"
   ]
  },
  {
   "cell_type": "code",
   "execution_count": 74,
   "metadata": {},
   "outputs": [
    {
     "name": "stdout",
     "output_type": "stream",
     "text": [
      "Model('eXtreme Gradient Boosted Trees Classifier')\n",
      "5ca3cebb8fe98f080c791e95\n",
      "39e33faad0d6f53021c923f00f033886\n"
     ]
    }
   ],
   "source": [
    "example_model_quick = project_wine2.get_models(search_params={'name': \"eXtreme Gradient Boosted\" })[0]\n",
    "# some attributes of selected model\n",
    "print(example_model_quick)\n",
    "print(example_model_quick.id)\n",
    "print(example_model_quick.blueprint_id)"
   ]
  },
  {
   "cell_type": "markdown",
   "metadata": {},
   "source": [
    "We can look at the performance of the selected model in more detail as I showed above and to use it for getting predictions for the test data."
   ]
  },
  {
   "cell_type": "markdown",
   "metadata": {},
   "source": [
    "<a name=\"manual\"></a>\n",
    "# AUTOPILOT_MODE.MANUAL\n",
    "\n",
    "In the manual mode (AUTOPILOT_MODE.MANUAL), we can select which models to execute before starting the modeling process rather than use the DataRobot autopilot."
   ]
  },
  {
   "cell_type": "code",
   "execution_count": 75,
   "metadata": {},
   "outputs": [
    {
     "name": "stdout",
     "output_type": "stream",
     "text": [
      "Time taken to start project_wine3 =  28.23580002784729 seconds\n"
     ]
    }
   ],
   "source": [
    "import time\n",
    "start = time.time()\n",
    "# create a project without starting it\n",
    "project_wine3 = dr.Project.create(data, project_name='shaheen_dr3')\n",
    "#start the project created above\n",
    "project_wine3.set_target(target='target',target_type=dr.enums.TARGET_TYPE.MULTICLASS, mode=dr.AUTOPILOT_MODE.MANUAL)\n",
    "end1 = time.time()\n",
    "print('Time taken to start project_wine3 = ',end1 - start,'seconds')"
   ]
  },
  {
   "cell_type": "markdown",
   "metadata": {},
   "source": [
    "If you look at the leaderboard, you will see a message : \"DataRobot has not built any models for this project. To create models, add them from the Repository and, when trained, they will be listed here.\"\n",
    "\n",
    "<img src=\"image_dr_manual.PNG\">\n"
   ]
  },
  {
   "cell_type": "code",
   "execution_count": 76,
   "metadata": {},
   "outputs": [
    {
     "name": "stdout",
     "output_type": "stream",
     "text": [
      "22\n"
     ]
    }
   ],
   "source": [
    "# all recommended blueprints \n",
    "allblueprints = project_wine3.get_blueprints()   \n",
    "print(len(allblueprints))"
   ]
  },
  {
   "cell_type": "code",
   "execution_count": 77,
   "metadata": {},
   "outputs": [
    {
     "name": "stdout",
     "output_type": "stream",
     "text": [
      "0\n"
     ]
    }
   ],
   "source": [
    "# We can verify that there are no models in the project at this time \n",
    "allmodels = project_wine3.get_models()\n",
    "print(len(allmodels))"
   ]
  },
  {
   "cell_type": "markdown",
   "metadata": {},
   "source": [
    "Select one of the blueprints instance from above to train a model. The default dataset for the project is used."
   ]
  },
  {
   "cell_type": "code",
   "execution_count": 78,
   "metadata": {},
   "outputs": [
    {
     "name": "stdout",
     "output_type": "stream",
     "text": [
      "Blueprint(eXtreme Gradient Boosted Trees Classifier)\n"
     ]
    }
   ],
   "source": [
    "blueprint_manual = allblueprints[2]\n",
    "print(blueprint_manual)"
   ]
  },
  {
   "cell_type": "code",
   "execution_count": 79,
   "metadata": {},
   "outputs": [
    {
     "name": "stdout",
     "output_type": "stream",
     "text": [
      "39e33faad0d6f53021c923f00f033886\n",
      "5ca3d0a8329c9135ba505a2c\n",
      "eXtreme Gradient Boosted Trees Classifier\n",
      "['Missing Values Imputed', 'Ordinal encoding of categorical variables', 'Matrix of word-grams occurrences', 'Stochastic Gradient Descent Classifier', 'eXtreme Gradient Boosted Trees Classifier']\n"
     ]
    }
   ],
   "source": [
    "# some attributes of the selected blueprint\n",
    "print(blueprint_manual.id)\n",
    "print(blueprint_manual.project_id)\n",
    "print(blueprint_manual.model_type)\n",
    "print(blueprint_manual.processes)"
   ]
  },
  {
   "cell_type": "code",
   "execution_count": 80,
   "metadata": {},
   "outputs": [
    {
     "name": "stdout",
     "output_type": "stream",
     "text": [
      "5\n"
     ]
    }
   ],
   "source": [
    "# Train a model using 80% of the data. This train method will put a new modeling job into the queue and returns id of created ModelJob.\n",
    "manualmodel_job_id = project_wine3.train(blueprint_manual, sample_pct=80)\n",
    "print(manualmodel_job_id)\n"
   ]
  },
  {
   "cell_type": "code",
   "execution_count": 83,
   "metadata": {},
   "outputs": [
    {
     "name": "stdout",
     "output_type": "stream",
     "text": [
      "Model('Regularized Logistic Regression (L2)')\n"
     ]
    }
   ],
   "source": [
    "# Pass model_job_id to wait_for_async_model_creation function, that polls async model creation status and returns newly created model when it’s finished\n",
    "from datarobot.models.modeljob import wait_for_async_model_creation\n",
    "\n",
    "manualmodel = wait_for_async_model_creation(\n",
    "    project_id = project_wine2.id,\n",
    "    model_job_id = manualmodel_job_id,\n",
    ")\n",
    "print(manualmodel)"
   ]
  },
  {
   "cell_type": "code",
   "execution_count": 84,
   "metadata": {},
   "outputs": [
    {
     "name": "stdout",
     "output_type": "stream",
     "text": [
      "1\n"
     ]
    }
   ],
   "source": [
    "# verify that now there is one model associated with this project\n",
    "print(len(project_wine3.get_models()))"
   ]
  },
  {
   "cell_type": "code",
   "execution_count": 85,
   "metadata": {},
   "outputs": [
    {
     "data": {
      "text/plain": [
       "{'LogLoss': {'backtesting': None,\n",
       "  'holdout': None,\n",
       "  'backtestingScores': None,\n",
       "  'crossValidation': 0.8796240000000001,\n",
       "  'validation': 0.84948},\n",
       " 'AUC': {'backtesting': None,\n",
       "  'holdout': None,\n",
       "  'backtestingScores': None,\n",
       "  'crossValidation': 0.7246859999999999,\n",
       "  'validation': 0.72565},\n",
       " 'Balanced Accuracy': {'backtesting': None,\n",
       "  'holdout': None,\n",
       "  'backtestingScores': None,\n",
       "  'crossValidation': 0.543954,\n",
       "  'validation': 0.56516},\n",
       " 'Accuracy': {'backtesting': None,\n",
       "  'holdout': None,\n",
       "  'backtestingScores': None,\n",
       "  'crossValidation': 0.578948,\n",
       "  'validation': 0.5949}}"
      ]
     },
     "execution_count": 85,
     "metadata": {},
     "output_type": "execute_result"
    }
   ],
   "source": [
    "# quick metrics for the model\n",
    "manualmodel.metrics"
   ]
  },
  {
   "cell_type": "markdown",
   "metadata": {},
   "source": [
    "We can look at the performance of this model in more detail as I showed above and to use it for getting predictions for the test data."
   ]
  },
  {
   "cell_type": "markdown",
   "metadata": {},
   "source": [
    "# Delete and manage projects\n",
    "\n",
    "It is always good to cleaup after!"
   ]
  },
  {
   "cell_type": "code",
   "execution_count": 2,
   "metadata": {},
   "outputs": [
    {
     "name": "stdout",
     "output_type": "stream",
     "text": [
      "all my projects -  [Project(shaheen_dr3), Project(shaheen_dr2), Project(shaheen_dr1)]\n",
      "project to delete -  Project(shaheen_dr3)\n"
     ]
    }
   ],
   "source": [
    "allmyprojects = dr.Project.list()\n",
    "print('all my projects - ',allmyprojects)\n",
    "# load the project \n",
    "project_to_delete = allmyprojects[0]\n",
    "print('project to delete - ',project_to_delete)\n",
    "# delete the selected project\n",
    "project_to_delete.delete()"
   ]
  },
  {
   "cell_type": "markdown",
   "metadata": {},
   "source": [
    "Hope this tutorial was helpful in undertanding how DataRobot works and facilitates in integrating its rich functionality in your pythonic workflow."
   ]
  },
  {
   "cell_type": "markdown",
   "metadata": {},
   "source": [
    "Shaheen  \n",
    "@Shaheen_Gauher\n",
    "\n",
    "\n",
    "Author's bio:  \n",
    "Shaheen Gauher is an AI communicator, an intelligent solution enabler and a Data Scientist by profession. She helps enterprises build and deploy predictive solutions to best leverage their data and empowers them to achieve more through technology and AI. She is a climate scientist and physicist by training and serves on the advisory board for Data Analytics at Tufts University Graduate School of Arts and Sciences."
   ]
  }
 ],
 "metadata": {
  "kernelspec": {
   "display_name": "Python 3",
   "language": "python",
   "name": "python3"
  },
  "language_info": {
   "codemirror_mode": {
    "name": "ipython",
    "version": 3
   },
   "file_extension": ".py",
   "mimetype": "text/x-python",
   "name": "python",
   "nbconvert_exporter": "python",
   "pygments_lexer": "ipython3",
   "version": "3.7.1"
  }
 },
 "nbformat": 4,
 "nbformat_minor": 2
}
